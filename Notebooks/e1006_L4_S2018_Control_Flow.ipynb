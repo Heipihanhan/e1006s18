{
 "cells": [
  {
   "cell_type": "markdown",
   "metadata": {},
   "source": [
    "<h1 style=\"display:none;\">\n",
    "<h1 style=\"display:none;\">\n",
    "<h1 style=\"display:none;\">\n",
    "\n",
    "# Introduction to Computing for Engineers and Computer Scientists<BR><BR>Control Flow and Functions"
   ]
  },
  {
   "cell_type": "markdown",
   "metadata": {},
   "source": [
    "## Overview\n",
    "\n",
    "### Computer Hardware Instructions\n",
    "\n",
    "- The unit of execution in a computer is an _instruction._ There are three categories of instructions\n",
    "    1. Access or move bytes.\n",
    "    1. Operate on bytes (add, multiply, compare, ...)\n",
    "    1. Control-flow\n",
    "\n",
    "\n",
    "<img src=\"../images/cpu2.jpg\">\n",
    "\n",
    "\n",
    "- The power of a computer is that it can execute billions of _extremely simple_ instructions per second, e.g.\n",
    "    - Multiply two numbers.\n",
    "    - Compare two numbers.\n",
    "    - Move 8 bytes from one memory location to another.\n",
    "    - etc.\n",
    "    \n",
    "    \n",
    "- Number of instruction types\n",
    "    - Intel x86 (PCs, servers, Mac): $O(1000) = $ around 1,000 to 4,000.\n",
    "    - ARM (phones, mobile devices): $O(500) = $ around 100 to 500.\n",
    "    - These numbers are a little misleading because\n",
    "        - There are several different versions of similar operations, e.g\n",
    "            - x86 has 6 different instructions to move bytes from one location to another.\n",
    "            - X86 and ARM have about 10-12 different instructions for comparing and manipulating bits/bytes.\n",
    "        - Some are very highly-specialized and used only to optimize operating system, disk input/output, etc, e.g.\n",
    "            - 0F 01 DF: \"Invalidates the TLB mapping for the virtual page specified in RAX and the ASID specified in ECX.\"\n",
    "            - F2 0F 38 F0: \"Computes CRC value using the CRC-32C (Castagnoli) polynomial 0x11EDC6F41 (normal form 0x1EDC6F41). This is the polynomial used in iSCSI. In contrast to the more popular one used in Ethernet, its parity is even, and it can thus detect any error with an odd number of changed bits.\""
   ]
  },
  {
   "cell_type": "markdown",
   "metadata": {},
   "source": [
    "### Assembly Language\n",
    "\n",
    "\"An assembly (or assembler) language, often abbreviated asm, is a low-level programming language for a computer, or other programmable device, in which there is a very strong (but often not one-to-one) correspondence between the language and the architecture's machine code instructions.\" (https://en.wikipedia.org/wiki/Assembly_language)\n",
    "\n",
    "\n",
    "Very highly specialized use cases, often to interact directly with hardware control functions.\n",
    "\n",
    "<img src=\"../images/L4_assembly_language.jpeg\">"
   ]
  },
  {
   "cell_type": "markdown",
   "metadata": {},
   "source": [
    "### Programming Statements\n",
    "\n",
    "- High-level, more intuitive languages like Python have _statements._\n",
    "\n",
    "\n",
    "- A [_compiler_](https://en.wikipedia.org/wiki/Compiler) or <a href=\"https://en.wikipedia.org/wiki/Interpreter_(computing)\"><i>interpreter</i></a> maps language statement to multiple assembler/HW statements that implement the statement.\n",
    "\n",
    "\n",
    "- Programming languages have _simple statements_ and _compound statements._\n",
    "\n",
    "```\n",
    "simple_stmt ::=  expression_stmt\n",
    "                 | assert_stmt\n",
    "                 | assignment_stmt\n",
    "                 | augmented_assignment_stmt\n",
    "                 | annotated_assignment_stmt\n",
    "                 | pass_stmt\n",
    "                 | del_stmt\n",
    "                 | return_stmt\n",
    "                 | yield_stmt\n",
    "                 | raise_stmt\n",
    "                 | break_stmt\n",
    "                 | continue_stmt\n",
    "                 | import_stmt\n",
    "                 | global_stmt\n",
    "                 | nonlocal_stmt\n",
    "                 \n",
    "compound_stmt ::=  if_stmt\n",
    "                   | while_stmt\n",
    "                   | for_stmt\n",
    "                   | try_stmt\n",
    "                   | with_stmt\n",
    "                   | funcdef\n",
    "                   | classdef\n",
    "                   | async_with_stmt\n",
    "                   | async_for_stmt\n",
    "                   | async_funcdef\n",
    "suite         ::=  stmt_list NEWLINE | NEWLINE INDENT statement+ DEDENT\n",
    "statement     ::=  stmt_list NEWLINE | compound_stmt\n",
    "stmt_list     ::=  simple_stmt (\";\" simple_stmt)* [\";\"]\n",
    "\n",
    "```\n"
   ]
  },
  {
   "attachments": {},
   "cell_type": "markdown",
   "metadata": {},
   "source": [
    "### Statement Execution\n",
    "\n",
    "A program is\n",
    "- A set or group of statements.\n",
    "- A control-flow or order for execution of the statements.\n",
    "\n",
    "\n",
    "[flowchart](https://en.wikipedia.org/wiki/Flowchart): \"A flowchart is a type of diagram that represents an algorithm, workflow or process, showing the steps as boxes of various kinds, and their order by connecting them with arrows.\"\n",
    "\n",
    "_How to fix a lamp_\n",
    "<img src=\"../images/L4_fix_lamp.jpeg\">\n",
    "\n",
    "\n",
    "A flow chart is a useful way to learn programming.\n",
    "\n",
    "_Compute Fibonacci Numbers_\n",
    "\n",
    "<img src=\"https://www.rff.com/fibonacci-numbers.png\">"
   ]
  },
  {
   "cell_type": "markdown",
   "metadata": {},
   "source": [
    "## Python Control Flow\n",
    "\n",
    "### Sequential\n",
    "\n",
    "Sequential execution is the basic, default control flow. Most of the examples we have seen are sequential.\n",
    "\n",
    "<img src=\"../images/L4_sequential_statements.jpeg\">\n",
    "\n",
    "__Sequential Example__"
   ]
  },
  {
   "cell_type": "code",
   "execution_count": 1,
   "metadata": {},
   "outputs": [
    {
     "name": "stdout",
     "output_type": "stream",
     "text": [
      "Please enter the radius of a circle: 3.4\n",
      "Area =  36.316811075498\n"
     ]
    }
   ],
   "source": [
    "import math\n",
    "radius_str = input(\"Please enter the radius of a circle: \")\n",
    "radius_float = float(radius_str)\n",
    "area = math.pi * radius_float**2\n",
    "print(\"Area = \", area)"
   ]
  },
  {
   "cell_type": "markdown",
   "metadata": {},
   "source": [
    "### Selection\n",
    "\n",
    "#### Boolean Expression\n",
    "\n",
    "A _boolean expression_ is a syntactically correct sequence of operators and operands that computes _True_ or _False._"
   ]
  },
  {
   "cell_type": "code",
   "execution_count": 11,
   "metadata": {},
   "outputs": [
    {
     "name": "stdout",
     "output_type": "stream",
     "text": [
      "The assertion that Prof. Ferguson is a new professor of practice = \n",
      "True\n",
      "\n",
      "\n",
      "Two =  2\n",
      "x =  2\n",
      "True =  True  and False =  False\n",
      "2 == True evaluates to  False\n",
      "2 == False evaluates to  False\n",
      "\n",
      "2 is not == True, but since it is NOT FALSE, evaluates to TRUE in some cases\n",
      "We got here because 2 is NOT FALSE\n",
      "\n",
      "\n",
      "0 is effectively False\n"
     ]
    }
   ],
   "source": [
    "title = \"Professor of Professional Practice\"\n",
    "hire_year = 2018\n",
    "\n",
    "print(\"The assertion that Prof. Ferguson is a new professor of practice = \")\n",
    "print ((title == \"Professor of Professional Practice\") and (hire_year >= 2018))\n",
    "print(\"\\n\")\n",
    "\n",
    "print (\"Two = \", 2)\n",
    "x = 2\n",
    "print (\"x = \", x)\n",
    "print (\"True = \", True, \" and False = \", False)\n",
    "print (\"2 == True evaluates to \", True == 2)\n",
    "print (\"2 == False evaluates to \", False == 2)\n",
    "\n",
    "print(\"\\n2 is not == True, but since it is NOT FALSE, evaluates to TRUE in some cases\")\n",
    "if 2:\n",
    "    print(\"We got here because 2 is NOT FALSE\")\n",
    "\n",
    "print(\"\\n\")\n",
    "if 0:\n",
    "    print(\"We did not get here because 0 is NOT TRUE\")\n",
    "else:\n",
    "    print(\"0 is effectively False\")\n"
   ]
  },
  {
   "cell_type": "markdown",
   "metadata": {},
   "source": [
    "#### Selection Statement\n",
    "\n",
    "- A _selection statement_ chooses between two _blocks_ of sequential statements based on the value of a _boolean expression._\n",
    "\n",
    "\n",
    "- One of the blocks may be empty (or not present).\n",
    "\n",
    "\n",
    "- Flows continues sequentially after completing the selected block.\n",
    "\n",
    "\n",
    "- Unlike Java, Javascript, etc., block identification is via _indentation,_ not brackets or delimiter.\n",
    "\n",
    "<img src=\"../images/L4_decision_statement.jpeg\">\n",
    "\n",
    "\n"
   ]
  },
  {
   "cell_type": "markdown",
   "metadata": {},
   "source": [
    "#### Python if-statement\n",
    "\n",
    "- The Python if-statement is the core selection statement.\n",
    "\n",
    "\n",
    "- There are three forms:\n",
    "    - if-statement.\n",
    "    - if-else statement.\n",
    "    - if-elif-else statement.\n",
    "    \n",
    "__Example__"
   ]
  },
  {
   "cell_type": "code",
   "execution_count": 17,
   "metadata": {},
   "outputs": [
    {
     "name": "stdout",
     "output_type": "stream",
     "text": [
      "n =  4\n",
      "N is even.\n",
      "After first if.\n",
      "m =  3\n",
      "m is odd.\n",
      "After if-else.\n",
      "p =  25\n",
      "p is a multiple of 5.\n",
      "After first elif.\n",
      "p =  31\n",
      "p is not a multiple of 2, 3 or 5.\n",
      "After second elif.\n"
     ]
    }
   ],
   "source": [
    "n = 4\n",
    "\n",
    "print(\"n = \", n)\n",
    "if ((n % 2) == 0):\n",
    "    print(\"N is even.\")\n",
    "print(\"After first if.\")    \n",
    "\n",
    "m = 3\n",
    "print(\"m = \", m)\n",
    "if ((m % 2) == 0):\n",
    "    print(\"m is even.\")\n",
    "else:\n",
    "    print(\"m is odd.\")\n",
    "print(\"After if-else.\")\n",
    "\n",
    "\n",
    "p = 25\n",
    "print(\"p = \", p)\n",
    "if ((p % 2) == 0):\n",
    "    print(\"p is even.\")\n",
    "elif ((p % 3) == 0):\n",
    "    print(\"p is a multiple of 3.\")\n",
    "elif ((p % 5) == 0):\n",
    "    print(\"p is a multiple of 5.\")\n",
    "else:\n",
    "    print(\"p is not a multiple of 2, 3 or 5.\")\n",
    "print(\"After first elif.\")\n",
    "\n",
    "p = 31\n",
    "print(\"p = \",p)\n",
    "if ((p % 2) == 0):\n",
    "    print(\"p is even.\")\n",
    "elif ((p % 3) == 0):\n",
    "    print(\"p is a multiple of 3.\")\n",
    "elif ((p % 5) == 0):\n",
    "    print(\"p is a multiple of 5.\")\n",
    "else:\n",
    "    print(\"p is not a multiple of 2, 3 or 5.\")\n",
    "print(\"After second elif.\")\n"
   ]
  },
  {
   "cell_type": "markdown",
   "metadata": {},
   "source": [
    "### Repetition\n",
    "\n",
    "- A repetition statement executes a sequence (block) of statements until some condition is met.\n",
    "\n",
    "\n",
    "- There are two core reptition statements:\n",
    "    1. while-statement\n",
    "    1. for-statement\n",
    "    \n",
    "\n",
    "#### while-statement\n",
    "\n",
    "__Overview__\n",
    "\n",
    "<img src=\"../images/L4_while_statement.jpeg\">\n",
    "\n",
    "__Example__\n"
   ]
  },
  {
   "cell_type": "code",
   "execution_count": 22,
   "metadata": {},
   "outputs": [
    {
     "name": "stdout",
     "output_type": "stream",
     "text": [
      "p =  2019\n",
      "Square root of p =  44.93328387732194\n",
      "int(square root of p) =  44\n",
      "Testing for p being prime means I need to try dividing by integers 2, 3, ...  44\n",
      "p is not prime\n"
     ]
    }
   ],
   "source": [
    "import math\n",
    "\n",
    "p = 2017\n",
    "sqrt_p = math.sqrt(p)\n",
    "max_to_try = int(sqrt_p)\n",
    "\n",
    "print (\"p = \", p)\n",
    "print (\"Square root of p = \", sqrt_p)\n",
    "print(\"int(square root of p) = \", max_to_try)\n",
    "\n",
    "print(\"Testing for p being prime means I need to try dividing by integers 2, 3, ... \", max_to_try)\n",
    "\n",
    "test_divisor = 2\n",
    "factored = False\n",
    "\n",
    "while (test_divisor <= max_to_try) and (not factored):\n",
    "    remainder = p % test_divisor\n",
    "    if (remainder == 0):\n",
    "        factored = True\n",
    "        \n",
    "    test_divisor += 1\n",
    "    \n",
    "if (factored):\n",
    "    print(\"p is not prime\")\n",
    "else:\n",
    "    print(\"p is prime\")\n",
    "\n"
   ]
  },
  {
   "cell_type": "markdown",
   "metadata": {},
   "source": [
    "#### for-statement\n",
    "\n",
    "__Overview__\n",
    "\n",
    "<img src=\"../images/L4_for_loop.jpeg\">\n",
    "\n",
    "__Example__\n"
   ]
  },
  {
   "cell_type": "code",
   "execution_count": 27,
   "metadata": {},
   "outputs": [
    {
     "name": "stdout",
     "output_type": "stream",
     "text": [
      "A common color is  red\n",
      "A common color is  green\n",
      "A common color is  blue\n",
      "A common color is  purple\n",
      "A common color is  yellow\n",
      "A common color is  organge\n",
      "A common color is  white\n",
      "A common color is  black\n",
      "\n",
      "Don's favorite colors is  purple\n",
      "A common color is  red\n",
      "A common color is  green\n",
      "A common color is  blue\n",
      "A common color is  purple\n",
      "Don's favorite color is a common color.\n"
     ]
    }
   ],
   "source": [
    "\n",
    "common_colors = ['red', 'green', 'blue', 'purple', 'yellow', 'organge', 'white', 'black']\n",
    "\n",
    "for c in common_colors:\n",
    "    print(\"A common color is \", c)\n",
    "\n",
    "dons_favorite_color = 'purple'\n",
    "\n",
    "print(\"\\nDon's favorite colors is \", dons_favorite_color)\n",
    "for c in common_colors:\n",
    "    print(\"A common color is \", c)\n",
    "    if c == dons_favorite_color:\n",
    "        print(\"Don's favorite color is a common color.\")\n",
    "        break\n",
    "        "
   ]
  },
  {
   "cell_type": "markdown",
   "metadata": {},
   "source": [
    "- _Note:_\n",
    "    - __break__ causes the code to exit the repetition and execute the 1st statement after the block.\n",
    "    - We will cover __break__ and __continue__ later.\n",
    "\n",
    "\n",
    "- The range can be explicit or generated. _range(start, stop, increment)_ is the most common generator, but there are others.\n",
    "\n"
   ]
  },
  {
   "cell_type": "code",
   "execution_count": 32,
   "metadata": {},
   "outputs": [
    {
     "name": "stdout",
     "output_type": "stream",
     "text": [
      "i =  0\n",
      "i =  1\n",
      "i =  2\n",
      "i =  3\n",
      "i =  4\n",
      "i =  5\n",
      "i =  6\n",
      "i =  7\n",
      "i =  8\n",
      "The sum of 0, 1, ..., 9 is  36\n",
      "i =  10\n",
      "i =  13\n",
      "i =  16\n",
      "i =  19\n",
      "i =  22\n",
      "i =  25\n",
      "i =  28\n",
      "The sum of every 3rd number between 10 and 30 is:  133\n"
     ]
    }
   ],
   "source": [
    "sum = 0\n",
    "for i in range(0,9,1):\n",
    "    print(\"i = \", i)\n",
    "    sum += i\n",
    "    \n",
    "print(\"The sum of 0, 1, ..., 9 is \", sum)\n",
    "\n",
    "\n",
    "sum = 0\n",
    "for i in range(10,30,3):\n",
    "    print(\"i = \", i)\n",
    "    sum += i\n",
    "    \n",
    "print(\"The sum of every 3rd number between 10 and 30 is: \", sum)"
   ]
  },
  {
   "cell_type": "markdown",
   "metadata": {},
   "source": [
    "### Summary\n",
    "\n",
    "- Completed a quick, unseful overview of the basic approaches to Python control flow\n",
    "    - Sequential\n",
    "    - Selection: if-statement\n",
    "    - Iteration\n",
    "        - while-statement\n",
    "        - for-statement\n",
    "        \n",
    "        \n",
    "- There are a lot of nitty, gritty details and variations that we will incrementally cover. \n"
   ]
  },
  {
   "cell_type": "markdown",
   "metadata": {},
   "source": [
    "## Functions\n",
    "\n",
    "### Overview\n",
    "\n",
    "- __Reminder from Lecture 2:__ To start working on our first coll project, Monte Carlo Simulation, we need the ability to use the following Python concepts:\n",
    "    - Variables\n",
    "    - Types and built-in types\n",
    "    - Operators\n",
    "    - Simple control flow.\n",
    "    - Functions\n",
    "    \n",
    "    \n",
    "- We have a basic understanding of everything but __functions.__ Let's do this.\n",
    "\n",
    "\n",
    "- From mathematics, \"a function from $\\textbf{A}$ to $\\textbf{B}$ is an object $f$ such that every $\\textbf{a} \\in \\textbf{A}$ is uniquely associated with an object $f( \\textbf{a} ) \\in \\textbf{B}$. A function is therefore a many-to-one (or sometimes one-to-one) relation. The set $\\textbf{A}$ of values at which a function is defined is called its domain, while the set $\\textbf{f(A)} \\subset \\textbf{B}$ of values that the function can produce is called its range.\" (https://en.wikipedia.org/wiki/Function_(mathematics)) \n",
    "\n",
    "\n",
    "__Note:__ $\\textbf{a} \\in \\textbf{A}$ and $\\textbf{f{a}} \\in \\textbf{B}$ can be compound, i.e. a vector of more basic elements drawn from sets.\n",
    "\n",
    "<img src=\"../images/L4_functions.jpeg\">"
   ]
  }
 ],
 "metadata": {
  "kernelspec": {
   "display_name": "Python 3",
   "language": "python",
   "name": "python3"
  },
  "language_info": {
   "codemirror_mode": {
    "name": "ipython",
    "version": 3
   },
   "file_extension": ".py",
   "mimetype": "text/x-python",
   "name": "python",
   "nbconvert_exporter": "python",
   "pygments_lexer": "ipython3",
   "version": "3.6.3"
  },
  "toc": {
   "nav_menu": {},
   "number_sections": true,
   "sideBar": true,
   "skip_h1_title": false,
   "title_cell": "Table of Contents",
   "title_sidebar": "Contents",
   "toc_cell": false,
   "toc_position": {},
   "toc_section_display": true,
   "toc_window_display": false
  }
 },
 "nbformat": 4,
 "nbformat_minor": 2
}
