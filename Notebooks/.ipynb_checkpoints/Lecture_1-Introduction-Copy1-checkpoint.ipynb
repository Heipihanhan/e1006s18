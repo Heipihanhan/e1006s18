{
 "cells": [
  {
   "cell_type": "markdown",
   "metadata": {},
   "source": [
    "<h1 style=\"display:none;\">\n",
    "\n",
    "# Introduction to Computing for Engineers and Applied Scientists\n",
    "\n",
    "From CourseWorks\n",
    "\n",
    "\"(...) introduces computational thinking, algorithmic problem solving and Python programming with projects designed around applications in science and engineering. Intended for first-year SEAS students.\""
   ]
  },
  {
   "cell_type": "markdown",
   "metadata": {},
   "source": [
    "## First Program\n",
    "\n",
    "First simple program\n",
    "    - Input the radius of a circle\n",
    "    - Compute the\n",
    "        - Circumfrence\n",
    "        - Diameter\n",
    "        - Area"
   ]
  },
  {
   "cell_type": "code",
   "execution_count": null,
   "metadata": {},
   "outputs": [],
   "source": [
    "\n",
    "\"\"\"\n",
    "Created on Mon Jan  1 10:38:37 2018\n",
    "\n",
    "@author: donaldferguson\n",
    "\"\"\"\n",
    "\n",
    "# This program allows a user to input the radius on a circle.\n",
    "# We want to teach the formula to young children. So, we only\n",
    "# allow the radius to be an integer.\n",
    "\n",
    "# Almost every program you write will use \"programs\" others have written.\n",
    "# Your successful programs will become programs that others use.\n",
    "# Any non-trivial program requires a team. The team members assemble\n",
    "# the solution from individual subcomponents they build.\n",
    "# The subcomponents and reusable parts are called modules.\n",
    "\n",
    "import math     # We just imported our first module.\n",
    "\n",
    "# Programs, like mathematical functions, are only useful if they\n",
    "# operate on many user provided inputs. To start, we will get the input from\n",
    "# the \"command line.\"\n",
    "\n",
    "# Print a prompt asking for the radius.\n",
    "# Set a variable to the input value.\n",
    "radius_str = input('Enter the radius of a circle: ')\n",
    "\n",
    "# Let's double check that we got the input.\n",
    "print(\"You entered \", radius_str, \" which is of type \", type(radius_str))\n",
    "\n",
    "# We are going to do 'math' on the input. So, we should\n",
    "# covert it to an Integer.\n",
    "radius_int = int(radius_str)\n",
    "\n",
    "# The circumfrence is 2 times pi time the radius.\n",
    "# The area is pi * r squared.\n",
    "circumference = 2 * math.pi * radius_int\n",
    "area = math.pi * (radius_int ** 2)\n",
    "\n",
    "# Python conventions do not like lines that are too long.\n",
    "# \\ means that we will continue the command on the next line.\n",
    "print (\"The cirumference is:\",circumference,  \\\n",
    "      \", and the area is:\",area)"
   ]
  },
  {
   "cell_type": "markdown",
   "metadata": {},
   "source": [
    "## Our First Program"
   ]
  },
  {
   "cell_type": "code",
   "execution_count": null,
   "metadata": {},
   "outputs": [],
   "source": [
    "# This program allows a user to input the radius on a circle.\n",
    "# We want to teach the formula to young children. So, we only\n",
    "# allow the radius to be an integer.\n",
    "\n",
    "# Almost every program you write will use \"programs\" others have written.\n",
    "# Your successful programs will become programs that others use.\n",
    "# Any non-trivial program requires a team. The team members assemble\n",
    "# the solution from individual subcomponents they build.\n",
    "# The subcomponents and reusable parts are called modules.\n",
    "\n",
    "import math     # We just imported our first module.\n",
    "\n",
    "# Programs, like mathematical functions, are only useful if they\n",
    "# operate on many user provided inputs. To start, we will get the input from\n",
    "# the \"command line.\"\n",
    "\n",
    "# Print a prompt asking for the radius.\n",
    "# Set a variable to the input value.\n",
    "radius_str = input('Enter the radius of a circle: ')\n",
    "\n",
    "# Let's double check that we got the input.\n",
    "print(\"You entered \", radius_str, \" which is of type \", type(radius_str))\n"
   ]
  },
  {
   "cell_type": "markdown",
   "metadata": {},
   "source": [
    "## What Just Happened?\n",
    "\n",
    "- We imported a pre-built module (math)\n",
    "    - We are engineers and applied scientists after all.\n",
    "    - Amateurs argue about the relative benefits of programming languages.\n",
    "    - _A \"languages\" primary benefits are the libraries that simplify programming._\n",
    "\n",
    "\n",
    "- A _program_ produces a computational result\n",
    "    - (input) -> program -> (outcome)\n",
    "    - The simplest input is from the \"command line,\" aka \"the terminal.\"\n",
    "    - The simplest output is also the command line or terminal.\n",
    "    - Most of the time the input comes from a graphical user interface form, dataset, etc.\n",
    "    - Most of the time the output goes to a graphical user interface table, plot/diagram, dataset, etc.\n",
    "    \n",
    "    \n",
    "- And, we used _variables_ of a couple of __types__\n",
    "    \n",
    "    "
   ]
  },
  {
   "cell_type": "markdown",
   "metadata": {},
   "source": [
    "## Variables\n",
    "\n",
    "![image.png](attachment:image.png)\n"
   ]
  },
  {
   "cell_type": "markdown",
   "metadata": {},
   "source": [
    "## Variables, Memory, Code ...\n",
    "\n",
    "![image.png](attachment:image.png)"
   ]
  },
  {
   "cell_type": "markdown",
   "metadata": {},
   "source": [
    "- The brain of a computer is the central processing unit (CPU) and internal, random access memory (RAM). RAM contains\n",
    "    - Data\n",
    "    - Instructions/commands\n",
    "    - Everything is in binary (base 2 numbers).\n",
    "\n",
    "\n",
    "- The basic behavior of the CPU is\n",
    "    1. Load the next instruction.\n",
    "    2. Access two memory locations.\n",
    "    3. Perform an operation using the bits in the memory locations.\n",
    "    4. Store the result in a 3rd memory location.\n",
    "    5. Go back to step 1.\n",
    "\n",
    "\n",
    "- Steps 1-5 occur every \"clock tick.\" \n",
    "    - My MacBook's clock speed is 2.7 GHz (gigahertz).\n",
    "    - The CPU executes steps (1-5) 2.7 billion times per second.\n",
    "    \n",
    "A computer's RAM looks something like this ...\n",
    "\n",
    "![image.png](attachment:image.png)\n",
    "\n",
    "    \n"
   ]
  },
  {
   "cell_type": "markdown",
   "metadata": {},
   "source": [
    "- In binary in RAM\n",
    "    - The _number_ 217 is 0000 0000 0000 0000 0000 0000 1101 1001\n",
    "    - This is awkward. So, we use hexadecimal digits 0,1,2,3,4,5,6,7,8,9,A,B,C,D,E,F\n",
    "    - And 217 would be x000000D9\n",
    "    - But, the _string_ \"217\" is x323137 and\n",
    "    - The prompt for input \"Enter the radius of a circle: \" is 456e7465722074686520726164697573206f66206120636972636c653a20\n",
    "    \n",
    "    \n",
    "- Instructions and commands are also in binary.\n",
    "\n",
    "\n",
    "\n",
    "\n",
    "![image.png](attachment:image.png)\n"
   ]
  },
  {
   "cell_type": "markdown",
   "metadata": {},
   "source": [
    "- This can get kind of tedious. People actually used to program computers this way, mechanically ...\n",
    "\n",
    "![image.png](attachment:image.png)"
   ]
  },
  {
   "cell_type": "markdown",
   "metadata": {},
   "source": [
    "But, ...\n",
    "- There are special programs called _compilers_ or _interpreters_ that\n",
    "- Take input strings like\n",
    "    - a = 3\n",
    "    - b = a\n",
    "    - c = b + a\n",
    "- And converts into the much more tedious binary operations.\n",
    "\n",
    "![image.png](attachment:image.png)"
   ]
  },
  {
   "cell_type": "markdown",
   "metadata": {},
   "source": [
    "## Python Variable Names\n",
    "\n",
    "- Variable name rules\n",
    "    - Must begin with a letter (a - z, A - B) or underscore (_)\n",
    "    - Other characters can be letters, numbers or _\n",
    "    - Case Sensitive (Cat, CAt, cAt, ... are all different names)\n",
    "    - Can be any (reasonable) length\n",
    "    - There are some reserved words which you cannot use as a variable name because Python uses them for other things.\n",
    "    \n",
    "    \n",
    "- Programs should be readable, at least to other programmers.\n",
    "    - There are programs executing right now.\n",
    "    - That need to be modified by programmers.\n",
    "    - And the original programmers retired or died a long time ago.\n",
    "    - So,\n",
    "        - zp_3R = zp_3R + (1 + qm97)* zp_3R is not good.\n",
    "        - balance = balance + balance * (1 + interest_rate) is better.\n",
    "        \n",
    "        \n",
    "- The variable name convention is \"Lowercase with words separated by underscores as necessary to improve readability.\"\n",
    "\n",
    "\n",
    "- There are recommended style guidelines for writing code, e.g.\n",
    "    - https://google.github.io/styleguide/pyguide.html#Naming\n",
    "    - https://www.python.org/dev/peps/pep-0008/\n",
    "    - __The quality and style of your programs will define your reputation as a programmer.__  "
   ]
  },
  {
   "cell_type": "markdown",
   "metadata": {},
   "source": [
    "## Let's Continue the Example\n"
   ]
  },
  {
   "cell_type": "code",
   "execution_count": null,
   "metadata": {},
   "outputs": [],
   "source": [
    "# This program allows a user to input the radius on a circle.\n",
    "# We want to teach the formula to young children. So, we only\n",
    "# allow the radius to be an integer.\n",
    "\n",
    "# Almost every program you write will use \"programs\" others have written.\n",
    "# Your successful programs will become programs that others use.\n",
    "# Any non-trivial program requires a team. The team members assemble\n",
    "# the solution from individual subcomponents they build.\n",
    "# The subcomponents and reusable parts are called modules.\n",
    "\n",
    "import math     # We just imported our first module.\n",
    "\n",
    "# Programs, like mathematical functions, are only useful if they\n",
    "# operate on many user provided inputs. To start, we will get the input from\n",
    "# the \"command line.\"\n",
    "\n",
    "# Print a prompt asking for the radius.\n",
    "# Set a variable to the input value.\n",
    "radius_str = input('Enter the radius of a circle: ')\n",
    "\n",
    "# Let's double check that we got the input.\n",
    "print(\"You entered \", radius_str, \" which is of type \", type(radius_str))\n",
    "\n",
    "# We are going to do 'math' on the input. So, we should\n",
    "# covert it to an Integer.\n",
    "radius_int = int(radius_str)\n",
    "\n",
    "# The circumfrence is 2 times pi time the radius.\n",
    "# The area is pi * r squared.\n",
    "circumference = 2 * math.pi * radius_int\n",
    "area = math.pi * (radius_int ** 2)\n",
    "\n",
    "# Python conventions do not like lines that are too long.\n",
    "# \\ means that we will continue the command on the next line.\n",
    "print (\"The cirumference is:\",circumference,  \\\n",
    "      \", and the area is:\",area)\n",
    "\n"
   ]
  },
  {
   "cell_type": "markdown",
   "metadata": {},
   "source": []
  },
  {
   "cell_type": "markdown",
   "metadata": {},
   "source": [
    "## What Else Have We Seen?\n",
    "\n",
    "- A sequence of statements the accepted an input and computed an output\n",
    "    - Import a reusable library (math)\n",
    "    - Input the data\n",
    "    - Print some messages\n",
    "    - Do some math\n",
    "    - Print the output.\n",
    "    \n",
    "    \n",
    "- We will go into much more detail in the next lecture.\n",
    "\n",
    "\n",
    "- Your task is ...\n",
    "    - Sign up for Piazza and Slack channel.\n",
    "    - Access this lecture on CourseWorks.\n",
    "    - Install Anaconda and play around with it.\n",
    "    - Try to run the program. Do not worry if you cannot, ...\n",
    "        - The CAs and I can help in office hours and Piazza.\n",
    "        - I will walk through some of the steps in the next lecture.\n",
    "        "
   ]
  },
  {
   "cell_type": "code",
   "execution_count": null,
   "metadata": {},
   "outputs": [],
   "source": []
  }
 ],
 "metadata": {
  "kernelspec": {
   "display_name": "Python 3",
   "language": "python",
   "name": "python3"
  },
  "language_info": {
   "codemirror_mode": {
    "name": "ipython",
    "version": 3
   },
   "file_extension": ".py",
   "mimetype": "text/x-python",
   "name": "python",
   "nbconvert_exporter": "python",
   "pygments_lexer": "ipython3",
   "version": "3.6.3"
  },
  "toc": {
   "nav_menu": {},
   "number_sections": true,
   "sideBar": true,
   "skip_h1_title": false,
   "title_cell": "Table of Contents",
   "title_sidebar": "Contents",
   "toc_cell": false,
   "toc_position": {
    "height": "calc(100% - 180px)",
    "left": "10px",
    "top": "150px",
    "width": "286px"
   },
   "toc_section_display": true,
   "toc_window_display": false
  }
 },
 "nbformat": 4,
 "nbformat_minor": 2
}
