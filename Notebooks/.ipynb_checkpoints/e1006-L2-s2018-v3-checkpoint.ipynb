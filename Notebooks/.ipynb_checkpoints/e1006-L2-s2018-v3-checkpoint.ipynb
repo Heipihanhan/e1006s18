{
 "cells": [
  {
   "cell_type": "markdown",
   "metadata": {},
   "source": [
    "<h1 style=\"display:none;\">\n",
    "\n",
    "# Introduction to Computing for SEAS<br><br>Objects, Variables, Types, Operations I (v3)\n"
   ]
  },
  {
   "cell_type": "markdown",
   "metadata": {},
   "source": [
    "## First Program (Again)\n",
    "\n",
    "### Overview\n",
    "\n",
    "First simple program\n",
    "    - Input the radius of a circle\n",
    "    - Compute the\n",
    "        - Circumfrence\n",
    "        - Diameter\n",
    "        - Area\n",
    "        \n",
    "### Implementation\n"
   ]
  },
  {
   "cell_type": "code",
   "execution_count": 16,
   "metadata": {},
   "outputs": [
    {
     "name": "stdout",
     "output_type": "stream",
     "text": [
      "Enter the radius of a circle: 3\n",
      "You entered  3  which is of type  <class 'str'>\n",
      "The cirumference is: 18.84955592153876 , and the area is: 28.274333882308138\n"
     ]
    }
   ],
   "source": [
    "\n",
    "\"\"\"\n",
    "Created on Mon Jan  1 10:38:37 2018\n",
    "\n",
    "@author: donaldferguson\n",
    "\"\"\"\n",
    "\n",
    "# This program allows a user to input the radius on a circle.\n",
    "# We want to teach the formula to young children. So, we only\n",
    "# allow the radius to be an integer.\n",
    "\n",
    "# Almost every program you write will use \"programs\" others have written.\n",
    "# Your successful programs will become programs that others use.\n",
    "# Any non-trivial program requires a team. The team members assemble\n",
    "# the solution from individual subcomponents they build.\n",
    "# The subcomponents and reusable parts are called modules.\n",
    "\n",
    "import math     # We just imported our first module.\n",
    "\n",
    "# Programs, like mathematical functions, are only useful if they\n",
    "# operate on many user provided inputs. To start, we will get the input from\n",
    "# the \"command line.\"\n",
    "\n",
    "# Print a prompt asking for the radius.\n",
    "# Set a variable to the input value.\n",
    "radius_str = input('Enter the radius of a circle: ')\n",
    "\n",
    "# Let's double check that we got the input.\n",
    "print(\"You entered \", radius_str, \" which is of type \", type(radius_str))\n",
    "\n",
    "# We are going to do 'math' on the input. So, we should\n",
    "# covert it to an Integer.\n",
    "radius_int = int(radius_str)\n",
    "\n",
    "# The circumfrence is 2 times pi time the radius.\n",
    "# The area is pi * r squared.\n",
    "circumference = 2 * math.pi * radius_int\n",
    "area = math.pi * (radius_int ** 2)\n",
    "\n",
    "# Python conventions do not like lines that are too long.\n",
    "# \\ means that we will continue the command on the next line.\n",
    "print (\"The cirumference is:\",circumference,  \\\n",
    "      \", and the area is:\",area)"
   ]
  },
  {
   "cell_type": "markdown",
   "metadata": {},
   "source": [
    "## What Just Happened?\n",
    "\n",
    "- We imported a pre-built module (math)\n",
    "    - We are engineers and applied scientists after all.\n",
    "    - Amateurs argue about the relative benefits of programming languages.\n",
    "    - _A \"language's\" primary benefits are the libraries that simplify programming._\n",
    "\n",
    "\n",
    "- A _program_ produces a computational result\n",
    "    - (input) -> program -> (outcome)\n",
    "    - The simplest input is from the \"command line,\" aka \"the terminal.\"\n",
    "    - The simplest output is also the command line or terminal.\n",
    "    - Most of the time the input comes from a graphical user interface form, dataset, etc.\n",
    "    - Most of the time the output goes to a graphical user interface table, plot/diagram, dataset, etc.\n",
    "    \n",
    "    \n",
    "- And, we used __variables__ of a couple of __types__\n",
    "    \n",
    "    "
   ]
  },
  {
   "cell_type": "markdown",
   "metadata": {},
   "source": [
    "## Variables, Memory, Code ...\n",
    "\n",
    "### Variables\n",
    "\n",
    "<img src=\"../images/python-variables.png\" width=\"90%\">\n",
    "\n",
    "\n"
   ]
  },
  {
   "cell_type": "markdown",
   "metadata": {},
   "source": [
    "### How a Computer Works (I)\n",
    "\n",
    "<img src=\"../images/cpu1.jpg\">\n",
    "(http://csbapp.uncw.edu/mis213/TG01/TG1-5-A.html)\n",
    "\n",
    "- The brain of a computer is the central processing unit (CPU) and internal, random access memory (RAM). RAM contains\n",
    "    - Data\n",
    "    - Instructions/commands\n",
    "    - Everything is in binary (base 2 numbers).\n",
    "<br><br>\n",
    "\n",
    "<img src=\"../images/cpu2.jpg\">\n",
    "(http://csbapp.uncw.edu/mis213/TG01/TG1-5-A.html)\n",
    "\n",
    "- The basic behavior of the CPU is\n",
    "    1. Load the next instruction.\n",
    "    2. Access two memory locations.\n",
    "    3. Perform an operation using the bits in the memory locations.\n",
    "    4. Store the result in a 3rd memory location.\n",
    "    5. Go back to step 1.\n",
    "\n",
    "\n",
    "- Steps 1-5 occur every \"clock tick.\" \n",
    "    - My MacBook's clock speed is 2.7 GHz (gigahertz).\n",
    "    - The CPU executes steps (1-5) 2.7 billion times per second.\n",
    "    \n",
    "<br><br>\n",
    "A computer's RAM looks something like this ...\n",
    "\n",
    "<img src=\"../images/memory2.jpeg\">\n",
    "\n",
    "    \n"
   ]
  },
  {
   "cell_type": "markdown",
   "metadata": {},
   "source": [
    "- All data storage is in _binary_\n",
    "    - The _number_ 217 is 0000 0000 0000 0000 0000 0000 1101 1001\n",
    "    - This is awkward. So, we use hexadecimal digits 0,1,2,3,4,5,6,7,8,9,A,B,C,D,E,F\n",
    "    - And 217 would be x000000D9\n",
    "    - But, the _string_ \"217\" is x323137 and\n",
    "    - The prompt for input \"Enter the radius of a circle: \" is 456e7465722074686520726164697573206f66206120636972636c653a20\n",
    "    \n",
    "    \n",
    "- Instructions and commands are also in binary.\n",
    "<br><br>\n",
    "<img src=\"../images/x86instruction.png\">\n"
   ]
  },
  {
   "cell_type": "markdown",
   "metadata": {},
   "source": [
    "<br><br>\n",
    "- This can get kind of tedious. People actually used to program computers this way, mechanically ...\n",
    "\n",
    "<img src=\"../images/eniac_wires.jpg\">\n",
    "\n",
    "<br><br>\n",
    "- And this is where the word \"bug\" comes from\n",
    "<br>\n",
    "<img src=\"../images/firstbug.jpg\">\n"
   ]
  },
  {
   "cell_type": "markdown",
   "metadata": {},
   "source": [
    "But, ...\n",
    "- There are special programs called _compilers_ or _interpreters_ that\n",
    "- Take input strings like\n",
    "    - a = 3\n",
    "    - b = a\n",
    "    - c = b + a\n",
    "- And convert into the much more tedious binary operations.\n",
    "\n",
    "<img src=\"../images/compiler.png\">"
   ]
  },
  {
   "cell_type": "markdown",
   "metadata": {},
   "source": [
    "## Python Variable Names\n",
    "\n",
    "- Variable name rules\n",
    "    - Must begin with a letter (a - z, A - B) or underscore (_)\n",
    "    - Other characters can be letters, numbers or _\n",
    "    - Case Sensitive (Cat, CAt, cAt, ... are all different names)\n",
    "    - Can be any (reasonable) length\n",
    "    - There are some reserved words which you cannot use as a variable name because Python uses them for other things.\n",
    "    \n",
    "    \n",
    "- Programs should be readable, at least to other programmers, which means that variable names should be intuitive.\n",
    "    - There are programs executing right now.\n",
    "    - That need to be modified by programmers.\n",
    "    - And the original programmers retired or died a long time ago.\n",
    "    - So,\n",
    "        - zp_3R = zp_3R + (1 + qm97)* zp_3R is not good.\n",
    "        - balance = balance + balance * (1 + interest_rate) is better.\n",
    "        \n",
    "        \n",
    "- The variable name convention is \"Lowercase with words separated by underscores as necessary to improve readability.\"\n",
    "\n",
    "\n",
    "- There are recommended style guidelines for writing code, e.g.\n",
    "    - https://google.github.io/styleguide/pyguide.html#Naming\n",
    "    - https://www.python.org/dev/peps/pep-0008/\n",
    "    - __The quality and style of your programs will define your reputation as a programmer.__  "
   ]
  },
  {
   "cell_type": "markdown",
   "metadata": {},
   "source": [
    "## Let's Continue the Example\n",
    "\n",
    "### The Example Program\n"
   ]
  },
  {
   "cell_type": "code",
   "execution_count": 17,
   "metadata": {},
   "outputs": [
    {
     "name": "stdout",
     "output_type": "stream",
     "text": [
      "Enter the radius of a circle: 3\n",
      "You entered  3  which is of type  <class 'str'>\n",
      "The cirumference is: 18.84955592153876 , and the area is: 28.274333882308138\n"
     ]
    }
   ],
   "source": [
    "# This program allows a user to input the radius on a circle.\n",
    "# We want to teach the formula to young children. So, we only\n",
    "# allow the radius to be an integer.\n",
    "\n",
    "# Almost every program you write will use \"programs\" others have written.\n",
    "# Your successful programs will become programs that others use.\n",
    "# Any non-trivial program requires a team. The team members assemble\n",
    "# the solution from individual subcomponents they build.\n",
    "# The subcomponents and reusable parts are called modules.\n",
    "\n",
    "import math     # We just imported our first module.\n",
    "\n",
    "# Programs, like mathematical functions, are only useful if they\n",
    "# operate on many user provided inputs. To start, we will get the input from\n",
    "# the \"command line.\"\n",
    "\n",
    "# Print a prompt asking for the radius.\n",
    "# Set a variable to the input value.\n",
    "radius_str = input('Enter the radius of a circle: ')\n",
    "\n",
    "# Let's double check that we got the input.\n",
    "print(\"You entered \", radius_str, \" which is of type \", type(radius_str))\n",
    "\n",
    "# We are going to do 'math' on the input. So, we should\n",
    "# covert it to an Integer.\n",
    "radius_int = int(radius_str)\n",
    "\n",
    "# The circumfrence is 2 times pi time the radius.\n",
    "# The area is pi * r squared.\n",
    "circumference = 2 * math.pi * radius_int\n",
    "area = math.pi * (radius_int ** 2)\n",
    "\n",
    "# Python conventions do not like lines that are too long.\n",
    "# \\ means that we will continue the command on the next line.\n",
    "print (\"The cirumference is:\",circumference,  \\\n",
    "      \", and the area is:\",area)\n",
    "\n"
   ]
  },
  {
   "cell_type": "markdown",
   "metadata": {},
   "source": []
  },
  {
   "cell_type": "markdown",
   "metadata": {},
   "source": [
    "### Discussion\n",
    "\n",
    "- Python variables reference (address, point to) \"objects.\"\n",
    "    - Unlike Java and many other languages, _variables do not have (declared) types._\n",
    "    - The referenced objects do have types.\n",
    "    - _Logically, the current type of the variable is the type of the object it references._\n",
    "    \n",
    "    \n",
    "- This simple program uses 3 object types. The variables that reference the objects are:\n",
    "    - Integer (radius_int)\n",
    "    - Floating Point (circumference, area, math.pi)\n",
    "    - String (radius_str)\n",
    "    \n",
    "## Variables, Names and Objects\n",
    "\n",
    "### Example 1\n",
    "    "
   ]
  },
  {
   "cell_type": "code",
   "execution_count": 18,
   "metadata": {
    "scrolled": true
   },
   "outputs": [
    {
     "name": "stdout",
     "output_type": "stream",
     "text": [
      "my_variables is currently =  Hello  of type  <class 'str'>\n",
      "my_variables is currently =  2  of type  <class 'int'>\n",
      "my_variables is currently =  3.1416  of type  <class 'float'>\n"
     ]
    }
   ],
   "source": [
    "my_variable = \"Hello\" \n",
    "print(\"my_variables is currently = \", my_variable, \" of type \", type(my_variable))\n",
    "my_variable = 2\n",
    "print(\"my_variables is currently = \", my_variable, \" of type \", type(my_variable))\n",
    "my_variable = 3.1416\n",
    "print(\"my_variables is currently = \", my_variable, \" of type \", type(my_variable))\n"
   ]
  },
  {
   "cell_type": "markdown",
   "metadata": {},
   "source": [
    "### Example 2: Similar, more complex example"
   ]
  },
  {
   "cell_type": "code",
   "execution_count": 19,
   "metadata": {
    "scrolled": true
   },
   "outputs": [
    {
     "name": "stdout",
     "output_type": "stream",
     "text": [
      "\n",
      "Testing for my_int1\n",
      "The object's name is  my_int1\n",
      "The object's value is  10\n",
      "The object's ID is  4336138576\n",
      "The object's type is  <class 'int'>\n",
      "The object's name is  my_int2\n",
      "The object's value is  10\n",
      "The object's ID is  4336138576\n",
      "The object's type is  <class 'int'>\n",
      "The object's name is  my_int3\n",
      "The object's value is  10\n",
      "The object's ID is  4336138576\n",
      "The object's type is  <class 'int'>\n"
     ]
    }
   ],
   "source": [
    "# \"Pay no attention to the code behind that curtain, or def\n",
    "def what(obj, callingLocals=locals()):\n",
    "    for k,v in list(callingLocals.items()):\n",
    "        if v is obj:\n",
    "            name = k\n",
    "            print(\"The object's name is \", name)\n",
    "            print(\"The object's value is \", v)\n",
    "            print(\"The object's ID is \", id(obj))\n",
    "            print(\"The object's type is \", type(obj))\n",
    "    \n",
    "\n",
    "my_int1 = 10\n",
    "my_int2 = 10\n",
    "my_int3 = 8\n",
    "my_int3 = my_int3 + 2\n",
    "\n",
    "# I am going to print out some information about my_int1\n",
    "print(\"\\nTesting for my_int1\")\n",
    "what(my_int1)\n"
   ]
  },
  {
   "cell_type": "markdown",
   "metadata": {},
   "source": [
    "What happened?\n",
    "- That is not what I expected. What happened?\n",
    "- We imprecisely use the term \"variable\" for things like my_int1.\n",
    "- my_int1 is a \"name.\" my_int1 = 10 means, \"The object (thing) 10 is also known as my_int1.\"\n",
    "- The statements my_int2 = 10 means, \"The object (thing) 10 is also known as my_int2\"\n",
    "- The statements my_int3 = 8, my_int3 = my_int3 + 2 mean, \"Take the name my_int3 away from 8 and assign to 10.\"\n",
    "- There is a single \"thing\" (object, place in memory) that holds the value 10 but has three names.\n",
    "\n",
    "### Example 3\n"
   ]
  },
  {
   "cell_type": "code",
   "execution_count": 20,
   "metadata": {
    "scrolled": true
   },
   "outputs": [
    {
     "name": "stdout",
     "output_type": "stream",
     "text": [
      "\n",
      "Testing for my_int3\n",
      "The object's name is  my_int3\n",
      "The object's value is  10\n",
      "The object's ID is  4342734048\n",
      "The object's type is  <class 'str'>\n",
      "The object's name is  my_int4\n",
      "The object's value is  10\n",
      "The object's ID is  4342734048\n",
      "The object's type is  <class 'str'>\n"
     ]
    }
   ],
   "source": [
    "my_int3 = \"10\"\n",
    "my_int4 = \"10\"\n",
    "\n",
    "# I am going to print out some information about my_int1\n",
    "print(\"\\nTesting for my_int3\")\n",
    "what(my_int3)\n"
   ]
  },
  {
   "cell_type": "markdown",
   "metadata": {},
   "source": [
    "OK. That seemed reasonable. The string \"10\" acted like the number 10, although using my_int3 for a string is poor.\n",
    "\n",
    "### Example 4: Things get weird\n"
   ]
  },
  {
   "cell_type": "code",
   "execution_count": 21,
   "metadata": {
    "scrolled": true
   },
   "outputs": [
    {
     "name": "stdout",
     "output_type": "stream",
     "text": [
      "my_int5 =  10  of type  <class 'str'>\n",
      "my_int6 =  10  of type  <class 'str'>\n",
      "\n",
      "Testing for my_int5\n",
      "The object's name is  my_int5\n",
      "The object's value is  10\n",
      "The object's ID is  4497771632\n",
      "The object's type is  <class 'str'>\n"
     ]
    }
   ],
   "source": [
    "my_int5 = 10\n",
    "my_int6 = 10\n",
    "\n",
    "my_int5 = str(my_int5)\n",
    "my_int6 = str(my_int6)\n",
    "\n",
    "print(\"my_int5 = \", my_int5, \" of type \", type(my_int5))\n",
    "print(\"my_int6 = \", my_int6, \" of type \", type(my_int6))\n",
    "\n",
    "# I am going to print out some information about my_int1\n",
    "print(\"\\nTesting for my_int5\")\n",
    "what(my_int5)"
   ]
  },
  {
   "cell_type": "markdown",
   "metadata": {},
   "source": [
    "Huh. That test behaved significantly differently. I did not set my_int5 and my_int6 to \"10\". I computed two strings. This behavior is different from the previous examples.\n",
    "- The statements\n",
    "    - my_int3 = \"10\" and my_int4 = \"10\" mean\n",
    "    - There is a specific, literal object \"10\".\n",
    "    - my_int3 and my_int4 are additional names for that specific object \"10\"\n",
    "- The statements\n",
    "    - my_int5 = 10 and my_int6 = 10 mean\n",
    "    - There is a specific, literal object 10.\n",
    "    - my_int5 and my_int6 are additional names for that specific object 10\n",
    "- The statements\n",
    "    - my_int5 = str(my_int5) means:\n",
    "        1. Find the thing with name my_int5.\n",
    "        1. Make a new object of type string that has the string representation of the object named my_int5\n",
    "    - my_int6 = str(my_int6) does the same for my_int6\n",
    "- The result is that there are two __different__ string objects that happen to have the value \"10\", or you can think<br>\n",
    "'There are two slots in memory, each with its own name, that just happen to hold the string \"10\"'\n",
    "- This is a little confusing for basic types like String, Integer, etc. but is very important when we start dealing with more complex types.\n",
    "        "
   ]
  },
  {
   "cell_type": "markdown",
   "metadata": {},
   "source": [
    "### Summary\n",
    "\n",
    "<img src=\"../images/variablesummary.jpeg\" width=\"90%\">\n",
    "<br><br>\n",
    "\n",
    "- Python is an object system and everything is an object.\n",
    "\n",
    "\n",
    "- An object takes up space in memory and (may have) has data values in the space.<br>\n",
    "In a computer, data and code are always represented in binary.\n",
    "\n",
    "\n",
    "- The _type_ of the object defines how the Python runtime interprets/manages the bits. For example,\n",
    "    - Decimal 21 is 0x00000015 = 00000000 00000000 00000000 00010101\n",
    "    - Decimal 3.14 is 0x4048F5C3 = 01000000 01001000 11110101 11000011\n",
    "    - \"Veni, Vidi, Vici\" is \n",
    "        - 0x56656E692C20566964692C2056696369 in hexadecimal\n",
    "        - Binary\n",
    "        \n",
    "01010110011001010110111001101001001011000010000001010110011010010110010001101001001011000010000001010110011010010110001101101001\n",
    "\n",
    "\n",
    "- Objects have types; names/variables do not have types.\n",
    "\n",
    "\n",
    "- Many names can refer to the same object. A specific name\n",
    "    - Refers to one object at a time.\n",
    "    - Assignment statements, e.g. x = y + 1, change the object that the name references.\n",
    "    \n",
    "    \n",
    "- Two different objects may have the same \"value,\" i.e. bits and bytes.\n",
    "\n",
    "\n",
    "- Every object has a unique, Python generated ID."
   ]
  },
  {
   "cell_type": "code",
   "execution_count": 22,
   "metadata": {},
   "outputs": [
    {
     "name": "stdout",
     "output_type": "stream",
     "text": [
      "Caesar said? Veni, vidi, vici.\n",
      "Dixerunt Caesar?Veni, vidi, vici.\n",
      "s1 =  Veni, vidi, vici.\n",
      "s2 =  Veni, vidi, vici.\n",
      "\n",
      " Examining s1 yields\n",
      "The object's name is  s1\n",
      "The object's value is  Veni, vidi, vici.\n",
      "The object's ID is  4379353640\n",
      "The object's type is  <class 'str'>\n",
      "\n",
      " Examining s2 yields\n",
      "The object's name is  s2\n",
      "The object's value is  Veni, vidi, vici.\n",
      "The object's ID is  4379354144\n",
      "The object's type is  <class 'str'>\n",
      "\n",
      "\n",
      "s1 and s2 have the same value.\n",
      "s1 and s2 are NOT the same object.\n"
     ]
    }
   ],
   "source": [
    "s1 = input(\"Caesar said? \")\n",
    "s2 = input(\"Dixerunt Caesar?\")\n",
    "\n",
    "print(\"s1 = \", s1)\n",
    "print(\"s2 = \", s2)\n",
    "\n",
    "print(\"\\n Examining s1 yields\")\n",
    "what(s1)\n",
    "print(\"\\n Examining s2 yields\")\n",
    "what(s2)\n",
    "\n",
    "print(\"\\n\")\n",
    "if (s1 == s2):\n",
    "    print(\"s1 and s2 have the same value.\")\n",
    "if (id(s1) == id(s2)):\n",
    "    print(\"s1 and s2 are the same object.\")\n",
    "else:\n",
    "    print(\"s1 and s2 are NOT the same object.\")"
   ]
  },
  {
   "cell_type": "markdown",
   "metadata": {},
   "source": [
    "## Python Built-In Types\n",
    "\n",
    "### Overview\n",
    "\n",
    "<img src=\"../images/ptypes.jpeg\">\n",
    "\n",
    "<br><br>\n"
   ]
  },
  {
   "cell_type": "markdown",
   "metadata": {},
   "source": [
    "### Numeric Types\n",
    "\n",
    "- Numeric types are straight forward and are what you expect.\n",
    "\n",
    "\n",
    "- There are a bunch of operators and functions, which we will cover later.\n",
    "\n",
    "\n",
    "- There is a very powerful built-in math library, and some even more powerful optional packages.\n",
    "\n",
    "\n",
    "- Some examples:"
   ]
  },
  {
   "cell_type": "code",
   "execution_count": 23,
   "metadata": {},
   "outputs": [
    {
     "name": "stdout",
     "output_type": "stream",
     "text": [
      "Some basic objects:\n",
      "x =  4\n",
      "y =  3.1416\n",
      "z =  (4+3.1416j)\n",
      "c =  (1+2j)\n",
      "\n",
      "Result of operations on objects.\n",
      "z + c \t =  (5+5.1416j)\n",
      "x + y \t =  7.1416\n",
      "x * c \t =  (4+8j)\n",
      "\n",
      "Result of some more operations on objects.\n",
      "The real part of z is  4.0\n",
      "The imaginary part of z  is  3.1416\n",
      "The integer part of y is  3\n",
      "I can also compute the ceiling of y, which is  4\n",
      "x / y =  1.2732365673542145\n",
      "x // y = 1.0\n"
     ]
    }
   ],
   "source": [
    "import math\n",
    "\n",
    "x = 4\n",
    "y = 3.1416\n",
    "z = complex(x,y)\n",
    "c = 1+2j\n",
    "\n",
    "print(\"Some basic objects:\")\n",
    "print(\"x = \", x)\n",
    "print(\"y = \", y)\n",
    "print(\"z = \", z)\n",
    "print(\"c = \", c)\n",
    "print(\"\\nResult of operations on objects.\")\n",
    "print(\"z + c \\t = \", z+c)\n",
    "print(\"x + y \\t = \", x + y)\n",
    "print(\"x * c \\t = \", x*c)\n",
    "print(\"\\nResult of some more operations on objects.\")\n",
    "print(\"The real part of z is \", z.real)\n",
    "print(\"The imaginary part of z  is \", z.imag)\n",
    "print(\"The integer part of y is \", int(y))\n",
    "print(\"I can also compute the ceiling of y, which is \", math.ceil(y))\n",
    "print(\"x / y = \", x / y)\n",
    "print(\"x // y =\", x //y)\n",
    "\n",
    "\n"
   ]
  },
  {
   "cell_type": "markdown",
   "metadata": {},
   "source": [
    "\n",
    "- Representing numberic types\n",
    "    - int/Integer has 4 representations in Python\n",
    "        - Decimal: \n",
    "            - Digits are 0,1,2,3,4,5,6,7,8,9\n",
    "            - Examples are: 0, 231, 3978\n",
    "        - [Hexadecimal](https://en.wikipedia.org/wiki/Hexadecimal):\n",
    "            - Digits are 0,1,2,3,4,5,6,7,8,9,A,B,C,D,E,F\n",
    "            - Examples:\n",
    "                - 0x23 =  (2 * 16) + 3 = 35\n",
    "                - 0xFA2 = (15 * (16 * 16) + (10 * 16) + 2  = 4002\n",
    "        - [Octal](https://en.wikipedia.org/wiki/Octal)\n",
    "            - Digits are 0,1,2,3,4,5,6,7\n",
    "            - Examples:\n",
    "                - 0o21 = (2 * 8) + 1 = 17\n",
    "                - 0o1001 = 513\n",
    "        - [Binary](https://en.wikipedia.org/wiki/Binary_number):\n",
    "            - Digits are 0,1\n",
    "            - Examples:\n",
    "                - 0b11 = (1 * 2) + 1 = 3\n",
    "                -0b1000 = 8\n",
    "    - A real number has two representations\n",
    "        - [Floating point decimal](https://en.wikipedia.org/wiki/Decimal_floating_point):\n",
    "            - Format is (decimal int).(decimal int)\n",
    "            - Examples:\n",
    "                - 3.1416\n",
    "                - 2.7813\n",
    "                - 1.1414\n",
    "        - [Exponential notation](https://en.wikipedia.org/wiki/Scientific_notation): Also known as scientific notation\n",
    "            - Format is (floating point)e(int)\n",
    "            - Examples:\n",
    "                -  21e3 = 21000\n",
    "                - 0.000213e3 = 0.213\n",
    "        - [Complex](https://en.wikipedia.org/wiki/Complex_number):\n",
    "            - Format is (floating point)+(floating point)j\n",
    "            - Examples:\n",
    "                -  2.1718+3.1416j = (2.1718+3.1416j)\n",
    "                - complex(3,21.3) = (3+21.3j)\n",
    "                \n",
    "- Limits\n",
    "    - Numbers in the real world can be -infinity to infinity, and have infinite number of decimal places.\n",
    "    - The basic types (classes) in Python have upper and lower bounds.\n",
    "    - There are modules that support increased limits and precision.\n",
    "    \n",
    "<img src=\"../images/floatinfo.jpeg\">\n",
    "\n",
    "- Rounding errors\n",
    "    - In base 10, there is no decimal representation for irrational numbers, e.g. 1/3 or sqrt(2).\n",
    "    - Some numbers are irrational in base 2, which is what a computer uses, e.g. 0.1 <br>So, (0.1 + 0.1 + 0.1) = 0.30000000000000004, and does not equal 0.3\n",
    "    - This can break some fundamental laws of mathematics (algebra), e.g.\n",
    "        - math.sqrt(2) * math.sqrt(2) = 2.0000000000000004 and not 2.\n",
    "        -  0.3 - 0.1 - 0.1 - 0.1 = -2.7755575615628914e-17, not 0\n",
    "        - (a + b) + c may or may not equal a + (b + c)\n",
    "    - This is a behavior of ALL computers and programming languages.\n",
    "    - In Python, you can handle with round()\n",
    "        - 0.1 + 0.1 + 0.1 does not equal 0.3\n",
    "        - round(0.1 + 0.1 + 0.1) DOES equal 0.3\n",
    "        "
   ]
  },
  {
   "cell_type": "code",
   "execution_count": 24,
   "metadata": {},
   "outputs": [
    {
     "name": "stdout",
     "output_type": "stream",
     "text": [
      "x =  1e+31\n",
      "y =  -1e+31\n",
      "x + y =  0.0\n",
      "\n",
      "Now it gets weird.\n",
      "(x + y) + 1 =  1.0\n",
      "x + (y + 1) =  0.0\n",
      "\n",
      "You can fix some of this with round()\n",
      "0.1 + 0.1 + 0.1 =  0.30000000000000004\n",
      "round(0.1 + 0.1 + 0.1, 8) =  0.3\n",
      "math.sqrt(2) * math.sqrt(2) =  2.0000000000000004\n",
      "round(math.sqrt(2) * math.sqrt(2), 10) =  2\n"
     ]
    }
   ],
   "source": [
    "x = 10e30\n",
    "print(\"x = \", x)\n",
    "y = -10e30\n",
    "print(\"y = \", y)\n",
    "print (\"x + y = \", x + y)\n",
    "print(\"\\nNow it gets weird.\")\n",
    "print(\"(x + y) + 1 = \", (x + y) + 1)\n",
    "print(\"x + (y + 1) = \", x + (y + 1))\n",
    "print(\"\\nYou can fix some of this with round()\")\n",
    "print(\"0.1 + 0.1 + 0.1 = \", 0.1 + 0.1 + 0.1)\n",
    "print(\"round(0.1 + 0.1 + 0.1, 8) = \", round(0.1 + 0.1 + 0.1, 8))\n",
    "print(\"math.sqrt(2) * math.sqrt(2) = \", math.sqrt(2) * math.sqrt(2))\n",
    "print(\"round(math.sqrt(2) * math.sqrt(2), 10) = \", round(math.sqrt(2) * math.sqrt(2)))"
   ]
  },
  {
   "cell_type": "markdown",
   "metadata": {},
   "source": [
    "### Sequency Types\n",
    "\n",
    "#### Overview and Text Sequences\n",
    "\n",
    "<img src=\"../images/textsequence.jpeg\">\n",
    "\n",
    "The object type _str_, or text sequence, is an example of the basic sequence pattern\n",
    "- There is an object of type \"sequence.\" \n",
    "\n",
    "\n",
    "- In the example, the name of the object is _t_\n",
    "\n",
    "\n",
    "- The object _t_ is itself made up of an iterable sequence of objects. The name of each object is logically  _t[i]_, e.g.\n",
    "    - t[0]\n",
    "    - t[1]\n",
    "    - t[2]\n",
    "    - ... ...\n",
    "    \n",
    "\n",
    "- A text sequence/str is simply a sequence in which each t[i] is a \"text character.\"\n",
    "\n",
    "\n",
    "- Remember,\n",
    "    - In a computer, everything is a binary number.\n",
    "    - For text and characters, the _encoding_ determines the mapping from integer value to printable character value.\n",
    "    - [ASCII](https://en.wikipedia.org/wiki/ASCII) (American Standard Code for Information Interchange) used to be very common, but was \"American\" centric.\n",
    "        - An ASCII only encodes 127 characters, and comes from the teletype days.\n",
    "        - ASCII does support non-English characters.\n",
    "    - IBM and some other systems used [Extended Binary Coded Decimal Interchange Code (EBCIDIC)](https://en.wikipedia.org/wiki/EBCDIC) for a long time.  \n",
    "    - [UTF-8](https://en.wikipedia.org/wiki/UTF-8) is now the most common encoding.\n",
    "        - UTF-8 encodes 1,112,064 characters from [Unicode](https://en.wikipedia.org/wiki/Unicode).\n",
    "        - The first 127 numbers of ASCII and UTF-8 represent the same characters, that is UTF-8 is a superset of ASCII.\n",
    "    \n",
    "<img src=\"../images/encodinggrowth.jpeg\">\n",
    "\n",
    "_Some initial fun with encodings_\n",
    "<br><br>"
   ]
  },
  {
   "cell_type": "code",
   "execution_count": 25,
   "metadata": {},
   "outputs": [
    {
     "name": "stdout",
     "output_type": "stream",
     "text": [
      "UTF (unicode) character number 20516 is =  値\n",
      "There is no way to do this because ASCII is 1 byte and is 0 to 255\n",
      "ASCII is perfectly OK with 85 representing  U\n"
     ]
    }
   ],
   "source": [
    "print(\"UTF (unicode) character number 20516 is = \", chr(20516))\n",
    "print(\"There is no way to do this because ASCII is 1 byte and is 0 to 255\")\n",
    "print(\"ASCII is perfectly OK with 85 representing \", chr(85))"
   ]
  },
  {
   "cell_type": "markdown",
   "metadata": {},
   "source": [
    "<br>\n",
    "_Some function with text sequences (strings)_\n",
    "<br>"
   ]
  },
  {
   "cell_type": "code",
   "execution_count": 26,
   "metadata": {},
   "outputs": [
    {
     "name": "stdout",
     "output_type": "stream",
     "text": [
      "\n",
      "\n",
      "mm =  A simple string\n",
      "mm as a byte sequence =  b'A simple string'\n",
      "\n",
      "\n",
      "bb as a byte array =  b'W\\tX Y'\n",
      "bb as a string =  W\tX Y\n",
      "bb as a UTF string =  W\tX Y\n",
      "\n",
      "\n",
      "Let's access parts of things.\n",
      "The fourth thing in mm is mm[3] which is  i\n",
      "bb as a string =  W\tX Y  and the fourth byte is  32\n",
      "bb as a string =  W\tX Y  and the second byte is  9\n",
      "bb[1] is the integer  9  which is the tab character.\n",
      "\n",
      "Now some fun with sequence of integers\n",
      "tt =  [87, 9, 88, 32, 89, 20516, 1023]\n",
      "Let's try converting tt to a string. str(tt) =  [87, 9, 88, 32, 89, 20516, 1023]\n",
      "I got a string representation of the list.\n",
      "How about a string (text sequence) which converted each int to a UTF-8 chr?\n",
      "The answer is ''.join(map(chr,tt)) W\tX Y値Ͽ \n",
      "and we will understand later.\n"
     ]
    }
   ],
   "source": [
    "mm = \"A simple string\"\n",
    "\n",
    "# An sequence of bytes, which must be 0 .. 255\n",
    "bb = bytes([87, 9, 88, 32, 89])\n",
    "# A sequence of integers.\n",
    "tt = [87, 9, 88, 32, 89, 20516, 1023]\n",
    "\n",
    "print(\"\\n\")\n",
    "print(\"mm = \", mm)\n",
    "print(\"mm as a byte sequence = \", bytes(mm,\"ascii\"))\n",
    "print(\"\\n\")\n",
    "print(\"bb as a byte array = \", bb)\n",
    "print('bb as a string = ', bb.decode(\"ascii\"))\n",
    "print('bb as a UTF string = ', bb.decode(\"utf8\"))\n",
    "print(\"\\n\")\n",
    "print(\"Let's access parts of things.\")\n",
    "print(\"The fourth thing in mm is mm[3] which is \", mm[3])\n",
    "print('bb as a string = ', bb.decode(\"ascii\"), \" and the fourth byte is \", bb[3])\n",
    "print('bb as a string = ', bb.decode(\"ascii\"), \" and the second byte is \", bb[1])\n",
    "print(\"bb[1] is the integer \", bb[1], \" which is the tab character.\" )\n",
    "\n",
    "print(\"\\nNow some fun with sequence of integers\")\n",
    "print(\"tt = \", tt)\n",
    "print(\"Let's try converting tt to a string. str(tt) = \", str(tt))\n",
    "print(\"I got a string representation of the list.\")\n",
    "print(\"How about a string (text sequence) which converted each int to a UTF-8 chr?\")\n",
    "print(\"The answer is ''.join(map(chr,tt))\", ''.join(map(chr,tt)), \"\\nand we will understand later.\")"
   ]
  },
  {
   "cell_type": "markdown",
   "metadata": {},
   "source": [
    "#### Mutable and Immutable\n",
    "\n",
    "\"In object-oriented and functional programming, an _immutable object_ (unchangeable object) is an object whose state cannot be modified after it is created. This is in contrast to a _mutable object_ (changeable object), which can be modified after it is created.\" (https://en.wikipedia.org/wiki/Immutable_object)\n",
    "\n",
    "- Most simple objects are immutable\n",
    "    - You cannot change the integer 10 to 11, 12.37 or \"Hello.\"\n",
    "    - In the same way you cannot change 217345 to 341167, you cannot change \"Hello\" to \"Halo.\"\n",
    "\n",
    "\n",
    "- You can\n",
    "    - Change what instance names reference.\n",
    "    - Make new instances using parts of immutable objects.\n",
    "    - etc.\n",
    "    \n",
    "\n",
    "- Mutability\n",
    "    - Is an important concept, and its importance will become clear in future lectures.\n",
    "    - We will not focus on the concept in the early lectures or projects, but you may occasionally hit find something that you think should work, but does not.\n",
    "\n"
   ]
  },
  {
   "cell_type": "code",
   "execution_count": 27,
   "metadata": {},
   "outputs": [
    {
     "name": "stdout",
     "output_type": "stream",
     "text": [
      "s =  Hello\n",
      "s2 =  Halo\n"
     ]
    }
   ],
   "source": [
    "s = \"Hello\"\n",
    "print (\"s = \", s)\n",
    "\n",
    "s2 = s[0] + \"a\" + s[3:5]\n",
    "print(\"s2 = \", s2)"
   ]
  },
  {
   "cell_type": "code",
   "execution_count": 28,
   "metadata": {},
   "outputs": [
    {
     "ename": "TypeError",
     "evalue": "'str' object does not support item assignment",
     "output_type": "error",
     "traceback": [
      "\u001b[0;31m----------------------------------------------------------------------\u001b[0m",
      "\u001b[0;31mTypeError\u001b[0m                            Traceback (most recent call last)",
      "\u001b[0;32m<ipython-input-28-f1f3e2e8e54a>\u001b[0m in \u001b[0;36m<module>\u001b[0;34m()\u001b[0m\n\u001b[0;32m----> 1\u001b[0;31m \u001b[0ms\u001b[0m\u001b[0;34m[\u001b[0m\u001b[0;36m1\u001b[0m\u001b[0;34m]\u001b[0m\u001b[0;34m=\u001b[0m\u001b[0;34m'a'\u001b[0m\u001b[0;34m\u001b[0m\u001b[0m\n\u001b[0m",
      "\u001b[0;31mTypeError\u001b[0m: 'str' object does not support item assignment"
     ]
    }
   ],
   "source": [
    "s[1]='a'"
   ]
  },
  {
   "cell_type": "markdown",
   "metadata": {},
   "source": [
    "#### byte, bytearray, memoryview\n",
    "\n",
    "- _Byte_ is the most basic unit of computer memory.\n",
    "    - A byte is 8 bits (0/1 digits)\n",
    "    - Decimal 0 to 255.\n",
    "    - Binary 00000000 to 11111111\n",
    "    - Hexadecimal 00,01, ... 09,0A, ..., OF, 10, 11, ..., 1F, ... FF.\n",
    "        - A hex digit is 0 to F, which is 16 --> 4 bits.\n",
    "        - A byte is 8 bits, or two hex digits.\n",
    "        \n",
    "        \n",
    "- byte is immutable. byte_array _is_ mutable\n",
    "\n",
    "\n",
    "- We will worry about _memoryview_ later\n"
   ]
  },
  {
   "cell_type": "code",
   "execution_count": null,
   "metadata": {},
   "outputs": [],
   "source": [
    "x = b'El ni\\xc3\\xb1o come camar\\xc3\\xb3n'\n",
    "print(\"x = \",x)\n",
    "print(\"\\nx.decode('utf-8)') = \",x.decode(\"utf-8\"))\n",
    "print(\"\\nx to int big endian = \", int.from_bytes(x,  byteorder='big'))\n",
    "print(\"\\nx to int big endian = \", int.from_bytes(x,  byteorder='little'))\n",
    "\n",
    "y = bytearray(x)\n",
    "print(\"\\ny = bytearray(c) produces y =\", y)\n",
    "print(\"\\nn ASCII is the integer \", ord('n'))\n",
    "y[5]=ord('n')\n",
    "y[6]=ord('o')\n",
    "y[7]=ord(' ')\n",
    "print(\"I can change a bytearray. y[5]= the into ASCIii n, y[6] to ASCII o and y[7] to ASCII <space>, \\nproduces y = \", y)\n",
    "print(\"\")"
   ]
  },
  {
   "cell_type": "markdown",
   "metadata": {},
   "source": [
    "- 'enye' requires two bytes\n",
    "    - I turned the first byte into 'n'\n",
    "    - And the second by to < space >\n",
    "- Why/when would you use _byte_, _bytearray_ and _memoryview?_\n",
    "    - Integer, float, string, ... are by far the most common. Most of our projects will use these basic types and the other sequence types (below).\n",
    "    - In many more advanced applications, you have to manipulate raw bytes, e.g.\n",
    "        - Image, audio, etc. processing.\n",
    "        - Cryptography\n",
    "        - Signal processing\n",
    "        \n",
    "        \n",
    "\n",
    "<img src=\"../images/jpeghex.jpeg\">"
   ]
  },
  {
   "cell_type": "markdown",
   "metadata": {},
   "source": [
    "#### Lists, Sets, Maps\n",
    "\n",
    "\"Lists are mutable sequences, typically used to store collections of homogeneous items (where the precise degree of similarity will vary by application).\" (https://docs.python.org/3/library/stdtypes.html#list)\n",
    "\n",
    "Many other languages use the term \"array\" for the language's similar concept.\n",
    "\n",
    "__A simple example__\n"
   ]
  },
  {
   "cell_type": "code",
   "execution_count": null,
   "metadata": {},
   "outputs": [],
   "source": [
    "x = [1, 10, 3.1416+2.7318j, \"Hello\", b'El ni\\xc3\\xb1o come camar\\xc3\\xb3n']\n",
    "print(\"\\nWhat is 'similar' about the elements of \", x, \"?\")\n",
    "print(\"All are examples of built-in types used in the lecture\")\n"
   ]
  },
  {
   "cell_type": "markdown",
   "metadata": {},
   "source": [
    "__List are mutable__"
   ]
  },
  {
   "cell_type": "code",
   "execution_count": null,
   "metadata": {},
   "outputs": [],
   "source": [
    "x = [1, 10, 3.1416+2.7318j, \"Hello\", b'El ni\\xc3\\xb1o come camar\\xc3\\xb3n']\n",
    "print(\"\\nx starts out as = \", x)\n",
    "x[1]=bytes(\"Canary\".encode(\"UTF-8\"))\n",
    "print(\"\\nx becomes = \", x)\n",
    "\n",
    "y = [\"foo\", 2e9]\n",
    "print(\"\\ny = \", y)\n",
    "\n",
    "y = x + y\n",
    "print(\"\\ny becomes = \", y)\n",
    "del(y[1])\n",
    "print(\"\\ny becomes = \", y)\n"
   ]
  },
  {
   "cell_type": "markdown",
   "metadata": {},
   "source": [
    "__Lists are fundamental of data, analytics and plotting__"
   ]
  },
  {
   "cell_type": "code",
   "execution_count": 2,
   "metadata": {},
   "outputs": [
    {
     "name": "stdout",
     "output_type": "stream",
     "text": [
      "\n",
      "Vector a =  [1 3]\n",
      "Vector b =  [5 2]\n",
      "\n",
      "The inner product of a and b is =  11\n",
      "\n",
      "The sum of a + b is the vector  [6 5]\n"
     ]
    },
    {
     "data": {
      "image/png": "[encoded data removed]",
      "text/plain": [
       "<matplotlib.figure.Figure at 0x112586b70>"
      ]
     },
     "metadata": {},
     "output_type": "display_data"
    }
   ],
   "source": [
    "import numpy as np \n",
    "import matplotlib.pyplot as plt\n",
    "\n",
    "\n",
    "a = np.array([1,3]) \n",
    "print(\"\\nVector a = \", a)\n",
    "b = np.array([5,2])\n",
    "print(\"Vector b = \", b)\n",
    "\n",
    "print(\"\\nThe inner product of a and b is = \", np.inner(a,b))\n",
    "\n",
    "ad = np.add(a,b)\n",
    "print(\"\\nThe sum of a + b is the vector \", ad)\n",
    "\n",
    "ax = plt.axes()\n",
    "plt.axis([0, 7, 0, 7])\n",
    "l1 = ax.arrow(0,0,a[0],a[1], color='r', label=\"a\",head_width=0.2, head_length=0.2)\n",
    "l2 = ax.arrow(0,0, b[0],b[1], color='b', label=\"b\",head_width=0.2, head_length=0.2)\n",
    "l3 = ax.arrow(0,0,ad[0],ad[1], color='g', label=\"a+b\",head_width=0.2, head_length=0.2)\n",
    "l4 = ax.arrow(a[0],a[1],(ad[0]-a[0]),(ad[1]-a[1]),head_width=0.2, head_length=0.2,color='c',label=\"b starting from  a\")\n",
    "legend = ax.legend(handles=[l1,l2, l3, l4],loc='upper left')\n",
    "\n",
    "plt.show() "
   ]
  },
  {
   "cell_type": "markdown",
   "metadata": {},
   "source": [
    "### Homework 1, Part B\n",
    "\n",
    "- Due date, points and full description are on [CourseWorks](https://courseworks2.columbia.edu/courses/53496/assignments/134478)\n",
    "\n",
    "\n",
    "- Build a Jupyter notebook with the name \"< uni >_assignment_2\"\n",
    "    \n",
    "\n",
    "- Add the Python code from Assignment 1, Part A to a code cell in the Jupyter notebook.\n",
    "\n",
    "\n",
    "- Build your UNI\n",
    "    - Create a Code cell in the notebook. Use python statements like a=23 or b=\"foo\".\n",
    "    - Assign the names last_name, first_name, middle_name to the string values for your last, first and middle names.\n",
    "    - The prefix of your UNI is some combination of the first character of the name string. For example, my full name is \"Donald Francis Ferguson\" and my UNI prefix is \"dff\".\n",
    "    - The suffix of the UNI is a number. Assign the name uni_suffix to the integer number in your UNI. Mine would be the integer 9.\n",
    "    - Using modifications from the code in lecture 1 and 2, create a string reprentation of your UNI and print it.\n",
    "    - Uppercase letters are fine, e.g. \"DFF9\" is a correct submission.\n",
    "    \n",
    "- List\n",
    "    - Create a list that contains your first name, middle name, last name and UNI.\n",
    "    - Remove your middle name from the list.\n",
    "    - Move the UNI to the first element in the list.\n",
    "    \n",
    "    "
   ]
  },
  {
   "cell_type": "code",
   "execution_count": null,
   "metadata": {},
   "outputs": [],
   "source": []
  }
 ],
 "metadata": {
  "kernelspec": {
   "display_name": "Python 3",
   "language": "python",
   "name": "python3"
  },
  "language_info": {
   "codemirror_mode": {
    "name": "ipython",
    "version": 3
   },
   "file_extension": ".py",
   "mimetype": "text/x-python",
   "name": "python",
   "nbconvert_exporter": "python",
   "pygments_lexer": "ipython3",
   "version": "3.6.3"
  },
  "toc": {
   "nav_menu": {},
   "number_sections": true,
   "sideBar": true,
   "skip_h1_title": false,
   "title_cell": "Table of Contents",
   "title_sidebar": "Contents",
   "toc_cell": false,
   "toc_position": {
    "height": "calc(100% - 180px)",
    "left": "10px",
    "top": "150px",
    "width": "286px"
   },
   "toc_section_display": true,
   "toc_window_display": false
  }
 },
 "nbformat": 4,
 "nbformat_minor": 2
}
