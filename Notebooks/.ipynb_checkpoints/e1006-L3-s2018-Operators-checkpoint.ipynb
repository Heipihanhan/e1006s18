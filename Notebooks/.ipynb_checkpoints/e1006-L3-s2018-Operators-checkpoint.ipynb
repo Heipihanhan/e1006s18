{
 "cells": [
  {
   "cell_type": "markdown",
   "metadata": {},
   "source": [
    "<h1 style=\"display:none;\">\n",
    "<h1 style=\"display:none;\">\n",
    "\n",
    "# Introduction to Computing for Engineers and Computer Scientists<BR><BR>Expressions, Operators, Testing, Control Flow\n"
   ]
  },
  {
   "cell_type": "markdown",
   "metadata": {},
   "source": [
    "## Operators"
   ]
  },
  {
   "cell_type": "markdown",
   "metadata": {},
   "source": [
    "### Overview\n",
    "\n",
    "References:\n",
    "- Punch and Embody, section 1.7.\n",
    "- [tutorialspoint](https://www.tutorialspoint.com/python/python_basic_operators.htm) is also a good overview and tutorial.\n",
    "\n",
    "[Definitions:]() \"_Operators_ are special symbols in Python that carry out arithmetic or logical computation. The value(s) that the operator operates on is called the _operand(s)_.\n",
    "\n",
    "Example: 4 + 5 == 9 versus 4 + 5 = 9\n",
    "- 4 + 5 == 9\n",
    "    - Has three operands: 4,5,9\n",
    "    - Two operators: +, ==\n",
    "        - o1 + o2 produces the arithmetic (or other sum) of the operands.\n",
    "        - o1 == o2 produces True if o1 and o2 have the same value.\n",
    "        \n",
    "        \n",
    "- 4 + 5 = 9\n",
    "    - Has three operands: 4,5,9\n",
    "    - Two operators: +, =\n",
    "        - o1 + o2 produces the arithmetic (or other sum) of the operands.\n",
    "        - o1 = o2 sets the value of o1 to the value of o2\n"
   ]
  },
  {
   "cell_type": "code",
   "execution_count": 4,
   "metadata": {},
   "outputs": [
    {
     "data": {
      "text/plain": [
       "9"
      ]
     },
     "execution_count": 4,
     "metadata": {},
     "output_type": "execute_result"
    }
   ],
   "source": [
    "4 + 5"
   ]
  },
  {
   "cell_type": "code",
   "execution_count": 3,
   "metadata": {},
   "outputs": [
    {
     "data": {
      "text/plain": [
       "True"
      ]
     },
     "execution_count": 3,
     "metadata": {},
     "output_type": "execute_result"
    }
   ],
   "source": [
    "4 + 5 == 9"
   ]
  },
  {
   "cell_type": "code",
   "execution_count": 5,
   "metadata": {},
   "outputs": [
    {
     "ename": "SyntaxError",
     "evalue": "can't assign to operator (<ipython-input-5-869f9b4eb45d>, line 1)",
     "output_type": "error",
     "traceback": [
      "\u001b[0;36m  File \u001b[0;32m\"<ipython-input-5-869f9b4eb45d>\"\u001b[0;36m, line \u001b[0;32m1\u001b[0m\n\u001b[0;31m    4 + 5 = 9\u001b[0m\n\u001b[0m             ^\u001b[0m\n\u001b[0;31mSyntaxError\u001b[0m\u001b[0;31m:\u001b[0m can't assign to operator\n"
     ]
    }
   ],
   "source": [
    "4 + 5 = 9"
   ]
  },
  {
   "cell_type": "markdown",
   "metadata": {},
   "source": [
    "- Why is 4 + 5 = 9 and error?\n",
    "    - 4 + 5 produces 9.\n",
    "    - You cannot change the value of 9, even if you are trying to change it to 9.\n",
    "\n",
    "\n",
    "- There are three kinds of operand\n",
    "    - Literal: 4, 3.12, \"Cat\", ...\n",
    "    - Identifier: Think variable (name), e.g. x, radius_str, circumference, ...\n",
    "    - Enclosure: Literals or identifier \"enclosed\" with (), [], {}, ...\n",
    "    \n",
    "    \n",
    "- Python supports the following categories/kinds of operators:\n",
    "    - Arithmetic Operators\n",
    "    - Comparison (Relational) Operators\n",
    "    - Assignment Operators\n",
    "    - Logical Operators\n",
    "    - Bitwise Operators\n",
    "    - Membership Operators\n",
    "    - Identity Operators\n",
    "    \n",
    "- _NOTE:_ Trying to follow the book. So, will cover Bitwise, Membership and Identity operators later.\n",
    "\n",
    "    "
   ]
  },
  {
   "cell_type": "markdown",
   "metadata": {},
   "source": [
    "###  Arithmetic Operators\n",
    "\n",
    "Arithmetic operators operate on numeric types: integer, float, complex.\n",
    "\n",
    "| <img src=\"../images/L3_operators_1.jpeg\" width=\"66%\"> | \n",
    "|:--:| \n",
    "| [__Arithmetic Operators__](https://www.tutorialspoint.com/python/python_basic_operators.htm) |   \n"
   ]
  },
  {
   "cell_type": "markdown",
   "metadata": {},
   "source": [
    "Examples:\n",
    "<img src=\"../images/L3_operators_2.jpeg\">"
   ]
  },
  {
   "cell_type": "markdown",
   "metadata": {},
   "source": [
    "Some of these operators also operate on more complex types:\n",
    "- The symbol is the same.\n",
    "- But the operator is different (context sensitive)\n",
    "\n",
    "<img src=\"../images/L3_operators_3.jpeg\">"
   ]
  },
  {
   "cell_type": "markdown",
   "metadata": {},
   "source": [
    "- In the case of o1 < operator > o2,\n",
    "    - o1 and o1 must be compatible with respect to the operator.\n",
    "    - The type of o1 and o2, and the operator determine the type of the result.\n",
    "\n",
    "<img src=\"../images/L3_operators_4.jpeg\">"
   ]
  },
  {
   "cell_type": "markdown",
   "metadata": {},
   "source": [
    "### Comparison Operators\n",
    "\n",
    "- The basic format is op1 < operator > o2 produces either True or False.\n",
    "\n",
    "| <img src=\"../images/L3_operators_5.jpeg\"> | \n",
    "|:--:| \n",
    "| [__Comparison Operators__](https://www.tutorialspoint.com/python/python_basic_operators.htm) |   \n"
   ]
  },
  {
   "cell_type": "markdown",
   "metadata": {},
   "source": [
    "- Comparison operators/expressions are most often used in control flow statements (covered soon).\n",
    "\n",
    "\n",
    "- But here is an example:\n"
   ]
  },
  {
   "cell_type": "code",
   "execution_count": 20,
   "metadata": {},
   "outputs": [
    {
     "name": "stdout",
     "output_type": "stream",
     "text": [
      "Trying to check if  32  is prime.\n",
      "Need to test integers from 2 ...  5\n",
      "The divisors of 32 less than sqrt(32) are [2, 4]\n",
      "\n",
      "\n",
      "Trying to check if  61  is prime.\n",
      "Need to test integers from 2 ...  7\n",
      "The divisors of 61 less than sqrt(61) are None\n"
     ]
    }
   ],
   "source": [
    "import math\n",
    "\n",
    "def is_prime(n):\n",
    "    \n",
    "    highest_candidate = math.floor(math.sqrt(n))\n",
    "    print(\"Trying to check if \", n, \" is prime.\")\n",
    "    print(\"Need to test integers from 2 ... \", highest_candidate)\n",
    "    \n",
    "    i = 2\n",
    "    divisors = None\n",
    "    \n",
    "    # Comparison operator\n",
    "    while (i <= highest_candidate):\n",
    "        remainder = n % i\n",
    "        \n",
    "        # Comparison operator.\n",
    "        if (remainder == 0):\n",
    "            #print(\"The integer \", i, \" divides \", n)\n",
    "            \n",
    "            # Do not ask.\n",
    "            if (divisors is None):\n",
    "                divisors = []\n",
    "                \n",
    "            divisors.append(i)\n",
    "            \n",
    "        i = i + 1\n",
    "        \n",
    "    return divisors\n",
    "   \n",
    "    \n",
    "print(\"The divisors of 32 less than sqrt(32) are\", is_prime(32))\n",
    "print(\"\\n\")\n",
    "print(\"The divisors of 61 less than sqrt(61) are\", is_prime(61))"
   ]
  },
  {
   "cell_type": "markdown",
   "metadata": {},
   "source": [
    "### Assignment Operators\n",
    "\n",
    "The form is o1 $operator$ o2, and sets o1 to the value produced by operator and o2.\n",
    "\n",
    "| <img src=\"../images/L3_assignment_operators.jpeg\"> | \n",
    "|:--:| \n",
    "| [__Assignment Operators__](https://www.tutorialspoint.com/python/python_basic_operators.htm) |  "
   ]
  },
  {
   "cell_type": "markdown",
   "metadata": {},
   "source": [
    "- These ones drive me crazy and I never use them.\n",
    "\n",
    "<img src=\"../images/L3_assignment_operators_2.jpeg\">"
   ]
  },
  {
   "cell_type": "markdown",
   "metadata": {},
   "source": [
    "### Logical Operators\n",
    "\n",
    "| <img src=\"../images/L3_logical_operators.jpeg\"> | \n",
    "|:--:| \n",
    "| [__Logical Operators__](https://www.tutorialspoint.com/python/python_basic_operators.htm) |  "
   ]
  },
  {
   "cell_type": "markdown",
   "metadata": {},
   "source": [
    "<img src=\"../images/L3_logical_operators_2.jpeg\">"
   ]
  },
  {
   "cell_type": "markdown",
   "metadata": {},
   "source": [
    "### Operator Precedence\n",
    "\n",
    "| Precedence | Operators   | Description              |\n",
    "|------------|-------------|--------------------------|\n",
    "| 1          | ()          | Parentheses (grouping)   |\n",
    "| 2          | **          | Exponentiation           |\n",
    "| 3          | -, +        | Unary positive, negative |\n",
    "| 4          | *, /, %, // | Multiplication, division |\n",
    "| 5          | +, -        | Addition, subtraction    |\n",
    "\n",
    "Examples:\n",
    "<img src=\"../images/L3_operator_precedence.jpeg\">\n",
    "\n",
    "\n",
    "- You probably learned all of this in elementary school math.\n",
    "\n",
    "\n",
    "- __When in doubt and to be safe, just use () a lot.__"
   ]
  },
  {
   "cell_type": "markdown",
   "metadata": {},
   "source": [
    "### Summary\n",
    "\n",
    "The easiest thing to do is just play with the operators."
   ]
  },
  {
   "cell_type": "markdown",
   "metadata": {},
   "source": [
    "## Testing and Errors\n",
    "\n",
    "### Overview\n",
    "\n",
    "Punch and Embody, section 1.9, 1.10, 1.11\n",
    "\n",
    "\n",
    "__Rule 5:__ Test you code, often and thoroughly. (Section 1.9.1, p. 72)\n",
    "\n",
    "\n",
    "Not particularly helpful. \"Thank you, CPT Obvious.\"\n",
    "\n",
    "<img src=\"../images/L3_captain_obvious.jpg\">\n"
   ]
  },
  {
   "cell_type": "markdown",
   "metadata": {},
   "source": [
    "### Errors\n",
    "\n",
    "You will encounter three broad classes of errors.\n",
    "1. Syntax: There is a grammar error and Python will not run your program at all.\n",
    "2. Runtime: Your program is syntactically correct, and starts to run but fails.\n",
    "3. Correctness: Your program runs to completion but produces an incorrect answer.\n",
    "\n",
    "__Syntax Error__\n",
    "\n",
    "The IDE typically flags these for you and will not try to run the program.\n",
    "\n",
    "<img src=\"../images/L3_syntax_error.jpeg\">\n",
    "\n",
    "__Runtime Error__\n",
    "\n",
    "The program is syntactically correct, but variable values get into states that cause errors.\n",
    "1. Incompatible types for operations.\n",
    "1. Unassigned name.\n",
    "1. Divide by 0.\n",
    "1. etc.\n"
   ]
  },
  {
   "cell_type": "markdown",
   "metadata": {},
   "source": [
    "<img src=\"../images/L3_runtime_errors.jpeg\">"
   ]
  },
  {
   "cell_type": "markdown",
   "metadata": {},
   "source": [
    "__An Interesting Digression__\n",
    "\n",
    "1. Let $a$ and $b$ be equal, non-zero quantities<br><br>\n",
    "$a=b$\n",
    "<br><br>\n",
    "2. Multiply both sides by $a$<br><br>\n",
    "$a^2 = ab$\n",
    "<br><br>\n",
    "3. Subtract $b^2$ from both sides<br><br>\n",
    "$a^2 - b^2 = ab - b^2$\n",
    "<br><br>\n",
    "4. Do some factorization<br><br>\n",
    "$(a + b)(a - b) = b(a - b)$\n",
    "<br><br>\n",
    "5. Divide both sides by a common value, and observe\n",
    "\\begin{equation*}\n",
    "\\frac{(a + b)(a - b)}{(a - b)} = \\frac{b(a - b)}{(a - b)}\n",
    "\\end{equation*}\n",
    "<br><br>\n",
    "1. Thus,<br><br>\n",
    "$a + b = b$\n",
    "<br><br>\n",
    "1. Since (from 1) $a = b,$ we get\n",
    "<br><br>\n",
    "$(a + b = a) \\implies ((a + a) = a) \\implies (2 x a = a) \\implies (2 = 1)$ \n",
    "\n",
    "\n",
    "Computers will not make this mistake."
   ]
  },
  {
   "cell_type": "code",
   "execution_count": 26,
   "metadata": {},
   "outputs": [
    {
     "data": {
      "text/plain": [
       "True"
      ]
     },
     "execution_count": 26,
     "metadata": {},
     "output_type": "execute_result"
    }
   ],
   "source": [
    "a = 1\n",
    "b = a\n",
    "\n",
    "(a == b)"
   ]
  },
  {
   "cell_type": "code",
   "execution_count": 27,
   "metadata": {},
   "outputs": [
    {
     "data": {
      "text/plain": [
       "True"
      ]
     },
     "execution_count": 27,
     "metadata": {},
     "output_type": "execute_result"
    }
   ],
   "source": [
    "a**2 == a * b"
   ]
  },
  {
   "cell_type": "code",
   "execution_count": 28,
   "metadata": {},
   "outputs": [
    {
     "data": {
      "text/plain": [
       "True"
      ]
     },
     "execution_count": 28,
     "metadata": {},
     "output_type": "execute_result"
    }
   ],
   "source": [
    "a**2 - b**2 == a*b - b**2"
   ]
  },
  {
   "cell_type": "code",
   "execution_count": 29,
   "metadata": {},
   "outputs": [
    {
     "data": {
      "text/plain": [
       "True"
      ]
     },
     "execution_count": 29,
     "metadata": {},
     "output_type": "execute_result"
    }
   ],
   "source": [
    "(a + b) * (a - b) == b * (a - b)"
   ]
  },
  {
   "cell_type": "code",
   "execution_count": 31,
   "metadata": {
    "scrolled": true
   },
   "outputs": [
    {
     "ename": "ZeroDivisionError",
     "evalue": "division by zero",
     "output_type": "error",
     "traceback": [
      "\u001b[0;31m---------------------------------------------------------------------------\u001b[0m",
      "\u001b[0;31mZeroDivisionError\u001b[0m                         Traceback (most recent call last)",
      "\u001b[0;32m<ipython-input-31-bd14dce8c6c1>\u001b[0m in \u001b[0;36m<module>\u001b[0;34m()\u001b[0m\n\u001b[0;32m----> 1\u001b[0;31m \u001b[0;34m(\u001b[0m\u001b[0ma\u001b[0m \u001b[0;34m+\u001b[0m \u001b[0mb\u001b[0m\u001b[0;34m)\u001b[0m\u001b[0;34m*\u001b[0m\u001b[0;34m(\u001b[0m\u001b[0ma\u001b[0m\u001b[0;34m-\u001b[0m\u001b[0mb\u001b[0m\u001b[0;34m)\u001b[0m\u001b[0;34m/\u001b[0m\u001b[0;34m(\u001b[0m\u001b[0ma\u001b[0m\u001b[0;34m-\u001b[0m\u001b[0mb\u001b[0m\u001b[0;34m)\u001b[0m\u001b[0;34m\u001b[0m\u001b[0m\n\u001b[0m",
      "\u001b[0;31mZeroDivisionError\u001b[0m: division by zero"
     ]
    }
   ],
   "source": [
    "(a + b)*(a-b)/(a-b)\n"
   ]
  },
  {
   "cell_type": "markdown",
   "metadata": {},
   "source": [
    "\n",
    "This formulation is pretty easy to spot, but there are much, much trickier versions that make it hard to spot divide by 0.\n",
    "\n"
   ]
  },
  {
   "cell_type": "markdown",
   "metadata": {},
   "source": [
    "__Correctness Errors__\n",
    "\n",
    "- Correctness errors are by far the most difficult to resolve.\n",
    "\n",
    "\n",
    "- The program executes but produces an incorrect result.\n",
    "\n",
    "\n",
    "- There are countless causes. Some examples,\n",
    "    - The algorithm is incorrect.\n",
    "    - Mathematical formula looks correct, but parentheses and operator precedence are wrong.\n",
    "    - Incorrect assumptions: Input is in kilograms but program uses pounds and ounces.\n",
    "    - Various forms of overflow, e.g. the programmer assumed that a counter or value would never wrap around to 0. \n",
    "    \n",
    "\n",
    "_Mars Climate Orbiter_\n",
    "\n",
    "\"The Mars Climate Orbiter (formerly the Mars Surveyor '98 Orbiter) was a 338-kilogram (745 lb) robotic space probe launched by NASA on December 11, 1998 to study the Martian climate, Martian atmosphere, and surface changes and to act as the communications relay in the Mars Surveyor '98 program for Mars Polar Lander. However, on September 23, 1999, communication with the spacecraft was lost as the spacecraft went into orbital insertion, due to ground-based computer software which produced output in non-SI units of pound (force)-seconds (lbf·s) instead of the SI units of newton-seconds (N·s) specified in the contract between NASA and Lockheed. The spacecraft encountered Mars on a trajectory that brought it too close to the planet, causing it to pass through the upper atmosphere and disintegrate.\" (https://en.wikipedia.org/wiki/Mars_Climate_Orbiter#Cause_of_failure)\n",
    "\n",
    "\n",
    "\n",
    "_Therac 25_\n",
    "\n",
    "\"Between June 1985 and January 1987, a computer-controlled radiation therapy machine, called the Therac-25, massively overdosed six people. These accidents have been described as the worst in the 35-year history of medical accelators.\n",
    "\n",
    "...\n",
    "\n",
    "On the Therac-25, the part of the computer program that is often referred to as the \"house-keeper task\" continuously checked to see whether the turntable was correctly positioned. A zero on the counter indicated to the technician that the turntable was in the correct position. Any value other than zero meant that it wasn't, and that treatment couldn't begin. The computer would then make the necessary corrections and the counter would reset itself to zero.\n",
    "\n",
    "But the highest value the counter could register was 255. If the program reached 256 checks, the counter automatically clicked back to zero, the same way that a car odometer turns over to zero after you've driven more than 99,999.99 kilometres. For that split second, the Therac-25 believed it was safe to proceed when, in fact, it wasn't. If the technician hit the \"set\" button to begin treatment at that precise moment, the turntable would be in the wrong position and the patient would be struck by a raw beam.\"\n",
    "    \n",
    "\n",
    "    "
   ]
  },
  {
   "cell_type": "markdown",
   "metadata": {},
   "source": [
    "### Testing and Software Quality Assurance\n",
    "\n",
    "#### The Concept\n",
    "\n",
    "\"Software quality assurance (SQA) consists of a means of monitoring the software engineering processes and methods used to ensure quality. The methods by which this is accomplished are many and varied, and may include ensuring conformance to one or more standards, such as ISO 9000 or a model such as CMMI.\n",
    "\n",
    "SQA encompasses the entire software development process, which includes processes such as requirements definition, software design, coding, source code control, code reviews, software configuration management, testing, release management, and product integration. SQA is organized into goals, commitments, abilities, activities, measurements, and verifications.\" (https://en.wikipedia.org/wiki/Software_quality_assurance)\n",
    "\n",
    "- This is a massively complex topic in Computer Science.\n",
    "\n",
    "\n",
    "- We do not have time to cover in any detail.\n",
    "\n",
    "\n",
    "- We will, however, think about the concepts and some general guidelines.\n",
    "\n",
    "\n",
    "- My predominant rule of thumb is __follow__ [__Gall's Law__](https://en.wikipedia.org/wiki/John_Gall_(author)\n",
    "\n",
    "\"A complex system that works is invariably found to have evolved from a simple system that worked. A complex system designed from scratch never works and cannot be patched up to make it work. You have to start over with a working simple system. – John Gall (1975)"
   ]
  },
  {
   "cell_type": "markdown",
   "metadata": {},
   "source": [
    "#### An Example\n",
    "\n",
    "Remember the 0-1 Knapsack Problem? The exact solution code is ...\n"
   ]
  },
  {
   "cell_type": "code",
   "execution_count": null,
   "metadata": {},
   "outputs": [],
   "source": [
    "from itertools import combinations\n",
    "import time\n",
    "\n",
    "def anycomb(items):\n",
    "    ' return combinations of any length from the items '\n",
    "    return ( comb\n",
    "             for r in range(1, len(items)+1)\n",
    "             for comb in combinations(items, r)\n",
    "             )\n",
    " \n",
    "def totalvalue(comb):\n",
    "    ' Totalise a particular combination of items'\n",
    "    totwt = totval = 0\n",
    "    for item, wt, val in comb:\n",
    "        totwt  += wt\n",
    "        totval += val\n",
    "    return (totval, -totwt) if totwt <= 500 else (0, 0)\n",
    "\n",
    "# Program/algorithm example input data. Real solution would get\n",
    "# data from user input, file, etc.\n",
    "items = (\n",
    "    (\"map\", 9, 150), (\"compass\", 13, 35), (\"water\", 153, 200), (\"sandwich\", 50, 160),\n",
    "    (\"glucose\", 15, 60), (\"tin\", 68, 45), (\"banana\", 27, 60), (\"apple\", 39, 40),\n",
    "   (\"cheese\", 23, 30), (\"beer\", 52, 10), (\"suntan cream\", 11, 70), (\"camera\", 32, 30),\n",
    "    (\"t-shirt\", 24, 15), (\"trousers\", 48, 10), (\"umbrella\", 73, 40),\n",
    "    (\"waterproof trousers\", 42, 70), (\"waterproof overclothes\", 43, 75),\n",
    "    (\"note-case\", 22, 80), (\"sunglasses\", 7, 20), (\"towel\", 18, 12),\n",
    "    (\"socks\", 4, 50), (\"book\", 30, 10), (\"tent\", 50, 50), (\"matches\", 5,20),\n",
    "    (\"boots\", 30, 30), (\"flare\", 10, 25), (\"mirror\", 50, 50)\n",
    "    )\n",
    "\n",
    "start = time.time()\n",
    "print (\"Time = \", start)    \n",
    "bagged = max( anycomb(items), key=totalvalue) # max val or min wt if values equal\n",
    "done = time.time()\n",
    "elapsed=done-start\n",
    "print(\"Done time =\", done, \" elapsed = \", elapsed )\n",
    "print(\"Bagged the following items\\n  \" +\n",
    "      '\\n  '.join(sorted(item for item,_,_ in bagged)))\n",
    "val, wt = totalvalue(bagged)\n",
    "print(\"for a total value of %i and a total weight of %i\" % (val, -wt))"
   ]
  },
  {
   "cell_type": "markdown",
   "metadata": {},
   "source": [
    "- I would not write this program all at once.\n",
    "\n",
    "\n",
    "- I would start by writing two smaller programs to [unit test](https://en.wikipedia.org/wiki/Unit_testing) the smaller functional units:\n",
    "    - anycomb function.\n",
    "    - totalvalue function.\n",
    "    \n",
    "_Unit test anycomb:_"
   ]
  },
  {
   "cell_type": "code",
   "execution_count": 36,
   "metadata": {},
   "outputs": [
    {
     "name": "stdout",
     "output_type": "stream",
     "text": [
      "Result = \n",
      "(('map', 9, 150),)\n",
      "(('compass', 13, 35),)\n",
      "(('water', 153, 200),)\n",
      "(('map', 9, 150), ('compass', 13, 35))\n",
      "(('map', 9, 150), ('water', 153, 200))\n",
      "(('compass', 13, 35), ('water', 153, 200))\n",
      "(('map', 9, 150), ('compass', 13, 35), ('water', 153, 200))\n"
     ]
    }
   ],
   "source": [
    "from itertools import combinations\n",
    "import time\n",
    "\n",
    "def anycomb(items):\n",
    "    ' return combinations of any length from the items '\n",
    "    return ( comb\n",
    "             for r in range(1, len(items)+1)\n",
    "             for comb in combinations(items, r)\n",
    "             )\n",
    "\n",
    "test_items = (\n",
    "    (\"map\", 9, 150), (\"compass\", 13, 35), (\"water\", 153, 200))\n",
    "\n",
    "result = anycomb(test_items)\n",
    "\n",
    "print(\"Result = \")\n",
    "print(*result, sep='\\n')"
   ]
  },
  {
   "cell_type": "markdown",
   "metadata": {},
   "source": [
    "This is correct. I can manually verify for small input sets.\n",
    "\n",
    "Obviously, I would test more than once and with tricky combinations.\n"
   ]
  },
  {
   "cell_type": "markdown",
   "metadata": {},
   "source": [
    "_Unit test totalvalue:_ BTW, not sure why the developer chose to return -total_weight."
   ]
  },
  {
   "cell_type": "code",
   "execution_count": 37,
   "metadata": {},
   "outputs": [
    {
     "name": "stdout",
     "output_type": "stream",
     "text": [
      "totalvalue test 1 =  (350, -162)\n"
     ]
    }
   ],
   "source": [
    "def totalvalue(comb):\n",
    "    ' Totalise a particular combination of items'\n",
    "    totwt = totval = 0\n",
    "    for item, wt, val in comb:\n",
    "        totwt  += wt\n",
    "        totval += val\n",
    "    return (totval, -totwt) if totwt <= 500 else (0, 0)\n",
    "\n",
    "test1 = (('map', 9, 150), ('water', 153, 200))\n",
    "\n",
    "print(\"totalvalue test 1 = \", totalvalue(test1))"
   ]
  },
  {
   "cell_type": "markdown",
   "metadata": {},
   "source": [
    "Finally, make sure you code checks for erroneous input.\n"
   ]
  },
  {
   "cell_type": "code",
   "execution_count": null,
   "metadata": {},
   "outputs": [],
   "source": []
  }
 ],
 "metadata": {
  "kernelspec": {
   "display_name": "Python 3",
   "language": "python",
   "name": "python3"
  },
  "language_info": {
   "codemirror_mode": {
    "name": "ipython",
    "version": 3
   },
   "file_extension": ".py",
   "mimetype": "text/x-python",
   "name": "python",
   "nbconvert_exporter": "python",
   "pygments_lexer": "ipython3",
   "version": "3.6.3"
  },
  "toc": {
   "nav_menu": {},
   "number_sections": true,
   "sideBar": true,
   "skip_h1_title": false,
   "title_cell": "Table of Contents",
   "title_sidebar": "Contents",
   "toc_cell": false,
   "toc_position": {
    "height": "calc(100% - 180px)",
    "left": "10px",
    "top": "150px",
    "width": "286px"
   },
   "toc_section_display": true,
   "toc_window_display": false
  }
 },
 "nbformat": 4,
 "nbformat_minor": 2
}
